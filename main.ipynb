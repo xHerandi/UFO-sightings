{
 "cells": [
  {
   "attachments": {},
   "cell_type": "markdown",
   "metadata": {},
   "source": [
    "<h1> UFO Sightings 🛸 </h1>\n",
    "<h3> Exploratory Data Analysis (EDA) </h3>\n",
    "\n",
    "Data obtained from [Kaggle](https://www.kaggle.com/datasets/ogunkoya/ufo-1149)"
   ]
  },
  {
   "attachments": {},
   "cell_type": "markdown",
   "metadata": {},
   "source": [
    "Some questions I would like to answer with this dataset: </b>\n",
    "1. What time periods are captured in this dataset? <br>\n",
    "2. Are there multiple reports from the same day? <br>\n",
    "3. Do most sightings occur during the day or at night? <br>\n",
    "4. What states have the most sightings? <br>\n",
    "5. How long do sightings last on average? <br>\n"
   ]
  },
  {
   "attachments": {},
   "cell_type": "markdown",
   "metadata": {},
   "source": [
    "First, import packages & libraries"
   ]
  },
  {
   "cell_type": "code",
   "execution_count": 1,
   "metadata": {},
   "outputs": [],
   "source": [
    "import pandas as pd\n",
    "import numpy as np\n",
    "from datetime import timedelta\n",
    "import warnings\n",
    "import seaborn as sns"
   ]
  },
  {
   "cell_type": "markdown",
   "metadata": {},
   "source": [
    "<h4>Step 1: Exploring Data Available</h4>"
   ]
  },
  {
   "cell_type": "code",
   "execution_count": 2,
   "metadata": {},
   "outputs": [],
   "source": [
    "# first, import the data into a pandas dataframe\n",
    "df = pd.read_csv('UFO-1149.csv')"
   ]
  },
  {
   "cell_type": "code",
   "execution_count": 3,
   "metadata": {},
   "outputs": [
    {
     "data": {
      "text/html": [
       "<div>\n",
       "<style scoped>\n",
       "    .dataframe tbody tr th:only-of-type {\n",
       "        vertical-align: middle;\n",
       "    }\n",
       "\n",
       "    .dataframe tbody tr th {\n",
       "        vertical-align: top;\n",
       "    }\n",
       "\n",
       "    .dataframe thead th {\n",
       "        text-align: right;\n",
       "    }\n",
       "</style>\n",
       "<table border=\"1\" class=\"dataframe\">\n",
       "  <thead>\n",
       "    <tr style=\"text-align: right;\">\n",
       "      <th></th>\n",
       "      <th>datetime</th>\n",
       "      <th>city</th>\n",
       "      <th>state</th>\n",
       "      <th>country</th>\n",
       "      <th>shape</th>\n",
       "      <th>duration (seconds)</th>\n",
       "      <th>duration (hours/min)</th>\n",
       "      <th>comments</th>\n",
       "      <th>date posted</th>\n",
       "      <th>latitude</th>\n",
       "      <th>longitude</th>\n",
       "    </tr>\n",
       "  </thead>\n",
       "  <tbody>\n",
       "    <tr>\n",
       "      <th>0</th>\n",
       "      <td>10/10/1949 20:30</td>\n",
       "      <td>san marcos</td>\n",
       "      <td>tx</td>\n",
       "      <td>us</td>\n",
       "      <td>cylinder</td>\n",
       "      <td>2700.0</td>\n",
       "      <td>45 minutes</td>\n",
       "      <td>This event took place in early fall around 194...</td>\n",
       "      <td>4/27/2004</td>\n",
       "      <td>29.8831</td>\n",
       "      <td>-97.9411</td>\n",
       "    </tr>\n",
       "    <tr>\n",
       "      <th>1</th>\n",
       "      <td>10/10/1949 21:00</td>\n",
       "      <td>lackland afb</td>\n",
       "      <td>tx</td>\n",
       "      <td>NaN</td>\n",
       "      <td>light</td>\n",
       "      <td>7200.0</td>\n",
       "      <td>1-2 hrs</td>\n",
       "      <td>1949 Lackland AFB&amp;#44 TX.  Lights racing acros...</td>\n",
       "      <td>12/16/2005</td>\n",
       "      <td>29.3842</td>\n",
       "      <td>-98.5811</td>\n",
       "    </tr>\n",
       "    <tr>\n",
       "      <th>2</th>\n",
       "      <td>10/10/1955 17:00</td>\n",
       "      <td>chester (uk/england)</td>\n",
       "      <td>NaN</td>\n",
       "      <td>gb</td>\n",
       "      <td>circle</td>\n",
       "      <td>20.0</td>\n",
       "      <td>20 seconds</td>\n",
       "      <td>Green/Orange circular disc over Chester&amp;#44 En...</td>\n",
       "      <td>1/21/2008</td>\n",
       "      <td>53.2000</td>\n",
       "      <td>-2.9167</td>\n",
       "    </tr>\n",
       "    <tr>\n",
       "      <th>3</th>\n",
       "      <td>10/10/1956 21:00</td>\n",
       "      <td>edna</td>\n",
       "      <td>tx</td>\n",
       "      <td>us</td>\n",
       "      <td>circle</td>\n",
       "      <td>20.0</td>\n",
       "      <td>1/2 hour</td>\n",
       "      <td>My older brother and twin sister were leaving ...</td>\n",
       "      <td>1/17/2004</td>\n",
       "      <td>28.9783</td>\n",
       "      <td>-96.6458</td>\n",
       "    </tr>\n",
       "    <tr>\n",
       "      <th>4</th>\n",
       "      <td>10/10/1960 20:00</td>\n",
       "      <td>kaneohe</td>\n",
       "      <td>hi</td>\n",
       "      <td>us</td>\n",
       "      <td>light</td>\n",
       "      <td>900.0</td>\n",
       "      <td>15 minutes</td>\n",
       "      <td>AS a Marine 1st Lt. flying an FJ4B fighter/att...</td>\n",
       "      <td>1/22/2004</td>\n",
       "      <td>21.4181</td>\n",
       "      <td>-157.8036</td>\n",
       "    </tr>\n",
       "    <tr>\n",
       "      <th>5</th>\n",
       "      <td>10/10/1961 19:00</td>\n",
       "      <td>bristol</td>\n",
       "      <td>tn</td>\n",
       "      <td>us</td>\n",
       "      <td>sphere</td>\n",
       "      <td>300.0</td>\n",
       "      <td>5 minutes</td>\n",
       "      <td>My father is now 89 my brother 52 the girl wit...</td>\n",
       "      <td>4/27/2007</td>\n",
       "      <td>36.5950</td>\n",
       "      <td>-82.1889</td>\n",
       "    </tr>\n",
       "    <tr>\n",
       "      <th>6</th>\n",
       "      <td>10/10/1965 21:00</td>\n",
       "      <td>penarth (uk/wales)</td>\n",
       "      <td>NaN</td>\n",
       "      <td>gb</td>\n",
       "      <td>circle</td>\n",
       "      <td>180.0</td>\n",
       "      <td>about 3 mins</td>\n",
       "      <td>penarth uk  circle  3mins  stayed 30ft above m...</td>\n",
       "      <td>2/14/2006</td>\n",
       "      <td>51.4347</td>\n",
       "      <td>-3.1800</td>\n",
       "    </tr>\n",
       "    <tr>\n",
       "      <th>7</th>\n",
       "      <td>10/10/1965 23:45</td>\n",
       "      <td>norwalk</td>\n",
       "      <td>ct</td>\n",
       "      <td>us</td>\n",
       "      <td>disk</td>\n",
       "      <td>1200.0</td>\n",
       "      <td>20 minutes</td>\n",
       "      <td>A bright orange color changing to reddish colo...</td>\n",
       "      <td>10/2/1999</td>\n",
       "      <td>41.1175</td>\n",
       "      <td>-73.4083</td>\n",
       "    </tr>\n",
       "    <tr>\n",
       "      <th>8</th>\n",
       "      <td>10/10/1966 20:00</td>\n",
       "      <td>pell city</td>\n",
       "      <td>al</td>\n",
       "      <td>us</td>\n",
       "      <td>disk</td>\n",
       "      <td>180.0</td>\n",
       "      <td>3  minutes</td>\n",
       "      <td>Strobe Lighted disk shape object observed clos...</td>\n",
       "      <td>3/19/2009</td>\n",
       "      <td>33.5861</td>\n",
       "      <td>-86.2861</td>\n",
       "    </tr>\n",
       "    <tr>\n",
       "      <th>9</th>\n",
       "      <td>10/10/1966 21:00</td>\n",
       "      <td>live oak</td>\n",
       "      <td>fl</td>\n",
       "      <td>us</td>\n",
       "      <td>disk</td>\n",
       "      <td>120.0</td>\n",
       "      <td>several minutes</td>\n",
       "      <td>Saucer zaps energy from powerline as my pregna...</td>\n",
       "      <td>5/11/2005</td>\n",
       "      <td>30.2947</td>\n",
       "      <td>-82.9842</td>\n",
       "    </tr>\n",
       "  </tbody>\n",
       "</table>\n",
       "</div>"
      ],
      "text/plain": [
       "           datetime                  city state country     shape  \\\n",
       "0  10/10/1949 20:30            san marcos    tx      us  cylinder   \n",
       "1  10/10/1949 21:00          lackland afb    tx     NaN     light   \n",
       "2  10/10/1955 17:00  chester (uk/england)   NaN      gb    circle   \n",
       "3  10/10/1956 21:00                  edna    tx      us    circle   \n",
       "4  10/10/1960 20:00               kaneohe    hi      us     light   \n",
       "5  10/10/1961 19:00               bristol    tn      us    sphere   \n",
       "6  10/10/1965 21:00    penarth (uk/wales)   NaN      gb    circle   \n",
       "7  10/10/1965 23:45               norwalk    ct      us      disk   \n",
       "8  10/10/1966 20:00             pell city    al      us      disk   \n",
       "9  10/10/1966 21:00              live oak    fl      us      disk   \n",
       "\n",
       "   duration (seconds) duration (hours/min)  \\\n",
       "0              2700.0           45 minutes   \n",
       "1              7200.0              1-2 hrs   \n",
       "2                20.0           20 seconds   \n",
       "3                20.0             1/2 hour   \n",
       "4               900.0           15 minutes   \n",
       "5               300.0            5 minutes   \n",
       "6               180.0         about 3 mins   \n",
       "7              1200.0           20 minutes   \n",
       "8               180.0           3  minutes   \n",
       "9               120.0      several minutes   \n",
       "\n",
       "                                            comments date posted  latitude  \\\n",
       "0  This event took place in early fall around 194...   4/27/2004   29.8831   \n",
       "1  1949 Lackland AFB&#44 TX.  Lights racing acros...  12/16/2005   29.3842   \n",
       "2  Green/Orange circular disc over Chester&#44 En...   1/21/2008   53.2000   \n",
       "3  My older brother and twin sister were leaving ...   1/17/2004   28.9783   \n",
       "4  AS a Marine 1st Lt. flying an FJ4B fighter/att...   1/22/2004   21.4181   \n",
       "5  My father is now 89 my brother 52 the girl wit...   4/27/2007   36.5950   \n",
       "6  penarth uk  circle  3mins  stayed 30ft above m...   2/14/2006   51.4347   \n",
       "7  A bright orange color changing to reddish colo...   10/2/1999   41.1175   \n",
       "8  Strobe Lighted disk shape object observed clos...   3/19/2009   33.5861   \n",
       "9  Saucer zaps energy from powerline as my pregna...   5/11/2005   30.2947   \n",
       "\n",
       "   longitude  \n",
       "0   -97.9411  \n",
       "1   -98.5811  \n",
       "2    -2.9167  \n",
       "3   -96.6458  \n",
       "4  -157.8036  \n",
       "5   -82.1889  \n",
       "6    -3.1800  \n",
       "7   -73.4083  \n",
       "8   -86.2861  \n",
       "9   -82.9842  "
      ]
     },
     "execution_count": 3,
     "metadata": {},
     "output_type": "execute_result"
    }
   ],
   "source": [
    "# first 10 records in the dataframe\n",
    "df.head(10)"
   ]
  },
  {
   "cell_type": "code",
   "execution_count": 4,
   "metadata": {},
   "outputs": [
    {
     "data": {
      "text/plain": [
       "(80332, 11)"
      ]
     },
     "execution_count": 4,
     "metadata": {},
     "output_type": "execute_result"
    }
   ],
   "source": [
    "# number of rows and columns\n",
    "df.shape"
   ]
  },
  {
   "cell_type": "code",
   "execution_count": 5,
   "metadata": {},
   "outputs": [
    {
     "name": "stdout",
     "output_type": "stream",
     "text": [
      "<class 'pandas.core.frame.DataFrame'>\n",
      "RangeIndex: 80332 entries, 0 to 80331\n",
      "Data columns (total 11 columns):\n",
      " #   Column                Non-Null Count  Dtype  \n",
      "---  ------                --------------  -----  \n",
      " 0   datetime              80332 non-null  object \n",
      " 1   city                  80332 non-null  object \n",
      " 2   state                 74535 non-null  object \n",
      " 3   country               70662 non-null  object \n",
      " 4   shape                 78400 non-null  object \n",
      " 5   duration (seconds)    80332 non-null  float64\n",
      " 6   duration (hours/min)  80332 non-null  object \n",
      " 7   comments              80318 non-null  object \n",
      " 8   date posted           80332 non-null  object \n",
      " 9   latitude              80332 non-null  float64\n",
      " 10  longitude             80332 non-null  float64\n",
      "dtypes: float64(3), object(8)\n",
      "memory usage: 6.7+ MB\n"
     ]
    }
   ],
   "source": [
    "# reviewing all columns, data types, and amount of records in each column\n",
    "df.info()"
   ]
  },
  {
   "cell_type": "code",
   "execution_count": 6,
   "metadata": {},
   "outputs": [
    {
     "data": {
      "text/plain": [
       "datetime                   0\n",
       "city                       0\n",
       "state                   5797\n",
       "country                 9670\n",
       "shape                   1932\n",
       "duration (seconds)         0\n",
       "duration (hours/min)       0\n",
       "comments                  14\n",
       "date posted                0\n",
       "latitude                   0\n",
       "longitude                  0\n",
       "dtype: int64"
      ]
     },
     "execution_count": 6,
     "metadata": {},
     "output_type": "execute_result"
    }
   ],
   "source": [
    "# missing values in each column\n",
    "df.isnull().sum()"
   ]
  },
  {
   "cell_type": "code",
   "execution_count": 7,
   "metadata": {},
   "outputs": [
    {
     "data": {
      "text/plain": [
       "datetime                69586\n",
       "city                    19900\n",
       "state                      67\n",
       "country                     5\n",
       "shape                      29\n",
       "duration (seconds)        533\n",
       "duration (hours/min)     8304\n",
       "comments                79998\n",
       "date posted               317\n",
       "latitude                17834\n",
       "longitude               19192\n",
       "dtype: int64"
      ]
     },
     "execution_count": 7,
     "metadata": {},
     "output_type": "execute_result"
    }
   ],
   "source": [
    "# unique records in each column\n",
    "df.nunique()"
   ]
  },
  {
   "attachments": {},
   "cell_type": "markdown",
   "metadata": {},
   "source": [
    "<b>Quick Observations: </b>\n",
    "- Slightly over 80,000 records with some missing data in `state`, `country`, `shape`, and `comments`<br>\n",
    "- Need to separate `dateteime` to individual *date* and *time* columns<br>\n",
    "- Time format for `duration (hours/min)` has too many variations<br>\n",
    "- There appear to 67 unique states, more than the standard 50 US states<br>\n",
    "<br>\n",
    "<br>\n",
    "<p>These will all be addressed in the next section"
   ]
  },
  {
   "cell_type": "markdown",
   "metadata": {},
   "source": [
    "<hr>"
   ]
  },
  {
   "cell_type": "markdown",
   "metadata": {},
   "source": [
    "<h4>Section 2: Data Cleaning and Transformation</h4>"
   ]
  },
  {
   "cell_type": "code",
   "execution_count": 8,
   "metadata": {},
   "outputs": [],
   "source": [
    "#replace 24:00 hours with 0:00 in order to use datetime features\n",
    "df['fix_time'] = df['datetime'].str.replace('24:00', '0:00')\n",
    "\n",
    "#recasting data type to datetime\n",
    "df['tempdatetime'] = pd.to_datetime(df['fix_time'])\n",
    "\n",
    "#items that contain 24:00 hour only\n",
    "rows = df['datetime'].str.contains('24:00')\n",
    "\n",
    "#applying update to fix the hour and save to a new column\n",
    "df['datetime_updated'] = df['tempdatetime'] + rows * timedelta(days=1)"
   ]
  },
  {
   "cell_type": "code",
   "execution_count": 9,
   "metadata": {},
   "outputs": [],
   "source": [
    "# splitting datetime column to new 'date' column\n",
    "df['date'] = pd.to_datetime(df['datetime_updated']).dt.date"
   ]
  },
  {
   "cell_type": "code",
   "execution_count": 10,
   "metadata": {},
   "outputs": [],
   "source": [
    "# creating a new column from the split above for 'time'\n",
    "df['time'] = pd.to_datetime(df['datetime_updated']).dt.time"
   ]
  },
  {
   "cell_type": "code",
   "execution_count": 11,
   "metadata": {},
   "outputs": [],
   "source": [
    "# recasting datatype\n",
    "df['date posted'] = pd.to_datetime(df['date posted']).dt.date"
   ]
  },
  {
   "cell_type": "code",
   "execution_count": 12,
   "metadata": {},
   "outputs": [],
   "source": [
    "# creating a new column that shows which day of the week sightings occurred\n",
    "df['day'] = df['datetime_updated'].dt.day_name()"
   ]
  },
  {
   "attachments": {},
   "cell_type": "markdown",
   "metadata": {},
   "source": [
    "There’s a lot of inconsistencies with how data under `city`, `state`, `country` was recorded. Doing a few cleanup items but will mainly rely on latitude & longitude information. A few things to note:\n",
    "</p>\n",
    "\n",
    "- Including PR in list of US states\n",
    "    - Although it's a territory not a state, it’s currently included under country US\n",
    "    - Adding it to the list will ensure that the `c1` & `c2` conditions apply US as the country if it’s blank\n",
    "- All other non-us states under `state` appear to be from other countries"
   ]
  },
  {
   "cell_type": "code",
   "execution_count": 13,
   "metadata": {},
   "outputs": [
    {
     "data": {
      "text/plain": [
       "array(['tx', nan, 'hi', 'tn', 'ct', 'al', 'fl', 'ca', 'nc', 'ny', 'ky',\n",
       "       'mi', 'ma', 'ks', 'sc', 'wa', 'ab', 'co', 'nh', 'wi', 'me', 'ga',\n",
       "       'pa', 'il', 'ar', 'on', 'mo', 'oh', 'in', 'az', 'mn', 'nv', 'nf',\n",
       "       'ne', 'or', 'bc', 'ia', 'va', 'id', 'nm', 'nj', 'mb', 'wv', 'ok',\n",
       "       'ri', 'nb', 'vt', 'la', 'pr', 'ak', 'ms', 'ut', 'md', 'mt', 'sk',\n",
       "       'wy', 'sd', 'pq', 'ns', 'qc', 'de', 'nd', 'dc', 'nt', 'sa', 'yt',\n",
       "       'yk', 'pe'], dtype=object)"
      ]
     },
     "execution_count": 13,
     "metadata": {},
     "output_type": "execute_result"
    }
   ],
   "source": [
    "# looking at all the unique values under state\n",
    "df['state'].unique()"
   ]
  },
  {
   "cell_type": "code",
   "execution_count": 14,
   "metadata": {},
   "outputs": [],
   "source": [
    "# setting a list of us states (plus pr for Puerto Rico)\n",
    "states = [ 'ak', 'al', 'ar', 'az', 'ca', 'co', 'ct', 'dc', 'de', 'fl', 'ga',\n",
    "           'hi', 'ia', 'id', 'il', 'in', 'ks', 'ky', 'la', 'ma', 'md', 'me',\n",
    "           'mi', 'mn', 'mo', 'ms', 'mt', 'nc', 'nd', 'ne', 'nh', 'nj', 'nm',\n",
    "           'nv', 'ny', 'oh', 'ok', 'or', 'pa', 'ri', 'sc', 'sd', 'tn', 'tx',\n",
    "           'ut', 'va', 'vt', 'wa', 'wi', 'wv', 'wy', 'pr']"
   ]
  },
  {
   "cell_type": "code",
   "execution_count": 15,
   "metadata": {},
   "outputs": [],
   "source": [
    "# adding country as 'us' on records where the country is NULL and the state is listed in variable above\n",
    "c1 = df['country'].isna()\n",
    "c2 = df['state'].isin(states)\n",
    "\n",
    "df['country'] = df['country'].mask(c1 & c2, 'us')"
   ]
  },
  {
   "cell_type": "code",
   "execution_count": 16,
   "metadata": {},
   "outputs": [],
   "source": [
    "# redoing 'duration (seconds)' to a more descriptive column\n",
    "def time(x):\n",
    "    min, sec = divmod(x, 60)\n",
    "    hour, min = divmod(min, 60)\n",
    "    new_time =  '%d:%02d:%02d' % (hour, min, sec)  #saves time in HH:MM:SS format\n",
    "    return new_time\n",
    "\n",
    "df['duration'] = df['duration (seconds)'].apply(time)"
   ]
  },
  {
   "cell_type": "code",
   "execution_count": 17,
   "metadata": {},
   "outputs": [],
   "source": [
    "# dropping columns that won't be needed\n",
    "df.drop(['datetime', 'fix_time', 'tempdatetime'], axis = 1, inplace=True)"
   ]
  },
  {
   "attachments": {},
   "cell_type": "markdown",
   "metadata": {},
   "source": [
    "Dropping rows with missing data from `shape` and `comments`. There’s missing values in `state` and `country` as well, however there’s latitude & longitude data that can be used instead. "
   ]
  },
  {
   "cell_type": "code",
   "execution_count": 18,
   "metadata": {},
   "outputs": [],
   "source": [
    "# removing rows with missing data in the following columns\n",
    "df.dropna(how='any', axis = 0, subset=['shape', 'comments'], inplace=True)"
   ]
  },
  {
   "cell_type": "code",
   "execution_count": 19,
   "metadata": {},
   "outputs": [
    {
     "data": {
      "text/html": [
       "<div>\n",
       "<style scoped>\n",
       "    .dataframe tbody tr th:only-of-type {\n",
       "        vertical-align: middle;\n",
       "    }\n",
       "\n",
       "    .dataframe tbody tr th {\n",
       "        vertical-align: top;\n",
       "    }\n",
       "\n",
       "    .dataframe thead th {\n",
       "        text-align: right;\n",
       "    }\n",
       "</style>\n",
       "<table border=\"1\" class=\"dataframe\">\n",
       "  <thead>\n",
       "    <tr style=\"text-align: right;\">\n",
       "      <th></th>\n",
       "      <th>city</th>\n",
       "      <th>state</th>\n",
       "      <th>country</th>\n",
       "      <th>shape</th>\n",
       "      <th>duration (seconds)</th>\n",
       "      <th>duration (hours/min)</th>\n",
       "      <th>comments</th>\n",
       "      <th>date posted</th>\n",
       "      <th>latitude</th>\n",
       "      <th>longitude</th>\n",
       "      <th>datetime_updated</th>\n",
       "      <th>date</th>\n",
       "      <th>time</th>\n",
       "      <th>day</th>\n",
       "      <th>duration</th>\n",
       "    </tr>\n",
       "  </thead>\n",
       "  <tbody>\n",
       "    <tr>\n",
       "      <th>80327</th>\n",
       "      <td>nashville</td>\n",
       "      <td>tn</td>\n",
       "      <td>us</td>\n",
       "      <td>light</td>\n",
       "      <td>600.0</td>\n",
       "      <td>10 minutes</td>\n",
       "      <td>Round from the distance/slowly changing colors...</td>\n",
       "      <td>2013-09-30</td>\n",
       "      <td>36.1658</td>\n",
       "      <td>-86.7844</td>\n",
       "      <td>2013-09-09 21:15:00</td>\n",
       "      <td>2013-09-09</td>\n",
       "      <td>21:15:00</td>\n",
       "      <td>Monday</td>\n",
       "      <td>0:10:00</td>\n",
       "    </tr>\n",
       "    <tr>\n",
       "      <th>80328</th>\n",
       "      <td>boise</td>\n",
       "      <td>id</td>\n",
       "      <td>us</td>\n",
       "      <td>circle</td>\n",
       "      <td>1200.0</td>\n",
       "      <td>20 minutes</td>\n",
       "      <td>Boise&amp;#44 ID&amp;#44 spherical&amp;#44 20 min&amp;#44 10 r...</td>\n",
       "      <td>2013-09-30</td>\n",
       "      <td>43.6136</td>\n",
       "      <td>-116.2025</td>\n",
       "      <td>2013-09-09 22:00:00</td>\n",
       "      <td>2013-09-09</td>\n",
       "      <td>22:00:00</td>\n",
       "      <td>Monday</td>\n",
       "      <td>0:20:00</td>\n",
       "    </tr>\n",
       "    <tr>\n",
       "      <th>80329</th>\n",
       "      <td>napa</td>\n",
       "      <td>ca</td>\n",
       "      <td>us</td>\n",
       "      <td>other</td>\n",
       "      <td>1200.0</td>\n",
       "      <td>hour</td>\n",
       "      <td>Napa UFO&amp;#44</td>\n",
       "      <td>2013-09-30</td>\n",
       "      <td>38.2972</td>\n",
       "      <td>-122.2844</td>\n",
       "      <td>2013-09-09 22:00:00</td>\n",
       "      <td>2013-09-09</td>\n",
       "      <td>22:00:00</td>\n",
       "      <td>Monday</td>\n",
       "      <td>0:20:00</td>\n",
       "    </tr>\n",
       "    <tr>\n",
       "      <th>80330</th>\n",
       "      <td>vienna</td>\n",
       "      <td>va</td>\n",
       "      <td>us</td>\n",
       "      <td>circle</td>\n",
       "      <td>5.0</td>\n",
       "      <td>5 seconds</td>\n",
       "      <td>Saw a five gold lit cicular craft moving fastl...</td>\n",
       "      <td>2013-09-30</td>\n",
       "      <td>38.9011</td>\n",
       "      <td>-77.2656</td>\n",
       "      <td>2013-09-09 22:20:00</td>\n",
       "      <td>2013-09-09</td>\n",
       "      <td>22:20:00</td>\n",
       "      <td>Monday</td>\n",
       "      <td>0:00:05</td>\n",
       "    </tr>\n",
       "    <tr>\n",
       "      <th>80331</th>\n",
       "      <td>edmond</td>\n",
       "      <td>ok</td>\n",
       "      <td>us</td>\n",
       "      <td>cigar</td>\n",
       "      <td>1020.0</td>\n",
       "      <td>17 minutes</td>\n",
       "      <td>2 witnesses 2  miles apart&amp;#44 Red &amp;amp; White...</td>\n",
       "      <td>2013-09-30</td>\n",
       "      <td>35.6528</td>\n",
       "      <td>-97.4778</td>\n",
       "      <td>2013-09-09 23:00:00</td>\n",
       "      <td>2013-09-09</td>\n",
       "      <td>23:00:00</td>\n",
       "      <td>Monday</td>\n",
       "      <td>0:17:00</td>\n",
       "    </tr>\n",
       "  </tbody>\n",
       "</table>\n",
       "</div>"
      ],
      "text/plain": [
       "            city state country   shape  duration (seconds)  \\\n",
       "80327  nashville    tn      us   light               600.0   \n",
       "80328      boise    id      us  circle              1200.0   \n",
       "80329       napa    ca      us   other              1200.0   \n",
       "80330     vienna    va      us  circle                 5.0   \n",
       "80331     edmond    ok      us   cigar              1020.0   \n",
       "\n",
       "      duration (hours/min)                                           comments  \\\n",
       "80327           10 minutes  Round from the distance/slowly changing colors...   \n",
       "80328           20 minutes  Boise&#44 ID&#44 spherical&#44 20 min&#44 10 r...   \n",
       "80329                 hour                                       Napa UFO&#44   \n",
       "80330            5 seconds  Saw a five gold lit cicular craft moving fastl...   \n",
       "80331           17 minutes  2 witnesses 2  miles apart&#44 Red &amp; White...   \n",
       "\n",
       "      date posted  latitude  longitude    datetime_updated        date  \\\n",
       "80327  2013-09-30   36.1658   -86.7844 2013-09-09 21:15:00  2013-09-09   \n",
       "80328  2013-09-30   43.6136  -116.2025 2013-09-09 22:00:00  2013-09-09   \n",
       "80329  2013-09-30   38.2972  -122.2844 2013-09-09 22:00:00  2013-09-09   \n",
       "80330  2013-09-30   38.9011   -77.2656 2013-09-09 22:20:00  2013-09-09   \n",
       "80331  2013-09-30   35.6528   -97.4778 2013-09-09 23:00:00  2013-09-09   \n",
       "\n",
       "           time     day duration  \n",
       "80327  21:15:00  Monday  0:10:00  \n",
       "80328  22:00:00  Monday  0:20:00  \n",
       "80329  22:00:00  Monday  0:20:00  \n",
       "80330  22:20:00  Monday  0:00:05  \n",
       "80331  23:00:00  Monday  0:17:00  "
      ]
     },
     "execution_count": 19,
     "metadata": {},
     "output_type": "execute_result"
    }
   ],
   "source": [
    "# confirming all updates\n",
    "df.tail()"
   ]
  },
  {
   "cell_type": "code",
   "execution_count": 20,
   "metadata": {},
   "outputs": [
    {
     "data": {
      "text/plain": [
       "city                       0\n",
       "state                   5658\n",
       "country                 3764\n",
       "shape                      0\n",
       "duration (seconds)         0\n",
       "duration (hours/min)       0\n",
       "comments                   0\n",
       "date posted                0\n",
       "latitude                   0\n",
       "longitude                  0\n",
       "datetime_updated           0\n",
       "date                       0\n",
       "time                       0\n",
       "day                        0\n",
       "duration                   0\n",
       "dtype: int64"
      ]
     },
     "execution_count": 20,
     "metadata": {},
     "output_type": "execute_result"
    }
   ],
   "source": [
    "df.isnull().sum()"
   ]
  },
  {
   "attachments": {},
   "cell_type": "markdown",
   "metadata": {},
   "source": [
    "<hr>"
   ]
  },
  {
   "cell_type": "markdown",
   "metadata": {},
   "source": [
    "<h4>Section 3: Analysis & Visualization</h4>"
   ]
  },
  {
   "attachments": {},
   "cell_type": "markdown",
   "metadata": {},
   "source": [
    "<p><b>1. What time periods are captured in this dataset?</b></p>"
   ]
  },
  {
   "cell_type": "code",
   "execution_count": 21,
   "metadata": {},
   "outputs": [
    {
     "data": {
      "text/plain": [
       "min    1906-11-11\n",
       "max    2014-05-08\n",
       "Name: date, dtype: object"
      ]
     },
     "execution_count": 21,
     "metadata": {},
     "output_type": "execute_result"
    }
   ],
   "source": [
    "df['date'].agg(['min', 'max'])"
   ]
  },
  {
   "cell_type": "code",
   "execution_count": 22,
   "metadata": {},
   "outputs": [
    {
     "data": {
      "text/plain": [
       "min    1998-03-07\n",
       "max    2014-05-08\n",
       "Name: date posted, dtype: object"
      ]
     },
     "execution_count": 22,
     "metadata": {},
     "output_type": "execute_result"
    }
   ],
   "source": [
    "df['date posted'].agg(['min', 'max'])"
   ]
  },
  {
   "attachments": {},
   "cell_type": "markdown",
   "metadata": {},
   "source": [
    "<p>This dataset has sightings from 1906 through 2014. The date of occurrence doesn’t always align with the date posted. The earliest posted record was from 1998, whereas the earliest sighting is from 1906. </br>\n",
    "<br>\n",
    "<p><b>2. Are there multiple reports from the same day?</b>\n"
   ]
  },
  {
   "cell_type": "code",
   "execution_count": 23,
   "metadata": {},
   "outputs": [
    {
     "name": "stdout",
     "output_type": "stream",
     "text": [
      "Number of unique date variations:  10382\n"
     ]
    }
   ],
   "source": [
    "print(\"Number of unique date variations: \",df['date'].nunique())"
   ]
  },
  {
   "cell_type": "code",
   "execution_count": 24,
   "metadata": {},
   "outputs": [
    {
     "data": {
      "image/png": "[encoded data removed]",
      "text/plain": [
       "<Figure size 640x480 with 1 Axes>"
      ]
     },
     "metadata": {},
     "output_type": "display_data"
    }
   ],
   "source": [
    "#looking at first 10 dates with the most sightings\n",
    "\n",
    "sns.countplot(data=df, y='date', order=df.date.value_counts()[:10].index, color='#006C7A').set_title('Most Frequent Dates');"
   ]
  },
  {
   "attachments": {},
   "cell_type": "markdown",
   "metadata": {},
   "source": [
    "<p>July 4th seems to be a hot day for UFO sightings! Wonder if that has to do with fireworks in the US for Independence Day. Something to look more into, possibly see which countries the sightings are from.\n",
    "\n",
    "Created a dataframe for the day with the most occurrences, then counted which country was most referenced. As suspected, most records are from the US."
   ]
  },
  {
   "cell_type": "code",
   "execution_count": 25,
   "metadata": {},
   "outputs": [
    {
     "data": {
      "text/plain": [
       "us    196\n",
       "ca      3\n",
       "Name: country, dtype: int64"
      ]
     },
     "execution_count": 25,
     "metadata": {},
     "output_type": "execute_result"
    }
   ],
   "source": [
    "us4th = df[df['datetime_updated'].dt.strftime('%Y-%m-%d') == '2010-07-04']\n",
    "us4th['country'].value_counts()"
   ]
  },
  {
   "attachments": {},
   "cell_type": "markdown",
   "metadata": {},
   "source": [
    "<p><b>3. Do most sightings occur during the day or at night?</b>\n",
    "\n",
    "To answer this question, time needs to be separated into a day/night column. Items labeled *Day* will be sightings between 06:00 - 18:00, *Night* 18:00 - 06:00."
   ]
  },
  {
   "cell_type": "code",
   "execution_count": 26,
   "metadata": {},
   "outputs": [],
   "source": [
    "# first find items in hour 6 - 18 & label as Day, else label as Night\n",
    "warnings.filterwarnings(\"ignore\")\n",
    "\n",
    "df['day_night'] = df['datetime_updated'].dt.hour.between(6, 18, inclusive=True)\n",
    "df['day_night'] = df['day_night'].replace({True: \"Day\", False: \"Night\"})"
   ]
  },
  {
   "cell_type": "code",
   "execution_count": 27,
   "metadata": {},
   "outputs": [
    {
     "data": {
      "image/png": "[encoded data removed]",
      "text/plain": [
       "<Figure size 640x480 with 1 Axes>"
      ]
     },
     "metadata": {},
     "output_type": "display_data"
    }
   ],
   "source": [
    "sns.countplot(data=df, x='day_night', order=df.day_night.value_counts().index, color='#943ba1').set_title('When are sightings more likely to occur?');"
   ]
  },
  {
   "attachments": {},
   "cell_type": "markdown",
   "metadata": {},
   "source": [
    "<p><b>4. What states have the most sightings?"
   ]
  },
  {
   "cell_type": "code",
   "execution_count": 28,
   "metadata": {},
   "outputs": [],
   "source": [
    "# looking at data in the US only\n",
    "usa_df = df[df['state'].isin(states)]"
   ]
  },
  {
   "cell_type": "code",
   "execution_count": 29,
   "metadata": {},
   "outputs": [
    {
     "data": {
      "image/png": "[encoded data removed]",
      "text/plain": [
       "<Figure size 640x480 with 1 Axes>"
      ]
     },
     "metadata": {},
     "output_type": "display_data"
    }
   ],
   "source": [
    "sns.countplot(data=usa_df, y='state', order=usa_df.state.value_counts()[:25].index).set_title('UFO Sightings in Top 25 States');"
   ]
  },
  {
   "attachments": {},
   "cell_type": "markdown",
   "metadata": {},
   "source": [
    "<p><b>5. How long do sightings last on average?"
   ]
  },
  {
   "attachments": {},
   "cell_type": "markdown",
   "metadata": {},
   "source": [
    "Reusing the time() function from section 2 to convert the mean that was calculated from `duration (seconds)`"
   ]
  },
  {
   "cell_type": "code",
   "execution_count": 30,
   "metadata": {},
   "outputs": [
    {
     "name": "stdout",
     "output_type": "stream",
     "text": [
      "8083.509932787367\n",
      "The average UFO sighting durations is:  2:14:43\n"
     ]
    }
   ],
   "source": [
    "time_mean = df['duration (seconds)'].mean()\n",
    "print(time_mean)\n",
    "print(\"The average UFO sighting durations is: \",time(time_mean))"
   ]
  },
  {
   "attachments": {},
   "cell_type": "markdown",
   "metadata": {},
   "source": [
    "<p>The longest sighting shows a duration of 31 years. However, it is unlikely that a single sighting lasted that long. "
   ]
  },
  {
   "cell_type": "code",
   "execution_count": 31,
   "metadata": {},
   "outputs": [
    {
     "data": {
      "text/html": [
       "<div>\n",
       "<style scoped>\n",
       "    .dataframe tbody tr th:only-of-type {\n",
       "        vertical-align: middle;\n",
       "    }\n",
       "\n",
       "    .dataframe tbody tr th {\n",
       "        vertical-align: top;\n",
       "    }\n",
       "\n",
       "    .dataframe thead th {\n",
       "        text-align: right;\n",
       "    }\n",
       "</style>\n",
       "<table border=\"1\" class=\"dataframe\">\n",
       "  <thead>\n",
       "    <tr style=\"text-align: right;\">\n",
       "      <th></th>\n",
       "      <th>city</th>\n",
       "      <th>state</th>\n",
       "      <th>country</th>\n",
       "      <th>shape</th>\n",
       "      <th>duration (seconds)</th>\n",
       "      <th>duration (hours/min)</th>\n",
       "      <th>comments</th>\n",
       "      <th>date posted</th>\n",
       "      <th>latitude</th>\n",
       "      <th>longitude</th>\n",
       "      <th>datetime_updated</th>\n",
       "      <th>date</th>\n",
       "      <th>time</th>\n",
       "      <th>day</th>\n",
       "      <th>duration</th>\n",
       "      <th>day_night</th>\n",
       "    </tr>\n",
       "  </thead>\n",
       "  <tbody>\n",
       "    <tr>\n",
       "      <th>559</th>\n",
       "      <td>birmingham (uk/england)</td>\n",
       "      <td>NaN</td>\n",
       "      <td>gb</td>\n",
       "      <td>sphere</td>\n",
       "      <td>97836000.0</td>\n",
       "      <td>31 years</td>\n",
       "      <td>Firstly&amp;#44 I was stunned and stared at the ob...</td>\n",
       "      <td>2013-04-12</td>\n",
       "      <td>52.4667</td>\n",
       "      <td>-1.9167</td>\n",
       "      <td>1983-10-01 17:00:00</td>\n",
       "      <td>1983-10-01</td>\n",
       "      <td>17:00:00</td>\n",
       "      <td>Saturday</td>\n",
       "      <td>27176:40:00</td>\n",
       "      <td>Day</td>\n",
       "    </tr>\n",
       "    <tr>\n",
       "      <th>53384</th>\n",
       "      <td>ottawa (canada)</td>\n",
       "      <td>on</td>\n",
       "      <td>ca</td>\n",
       "      <td>other</td>\n",
       "      <td>82800000.0</td>\n",
       "      <td>23000hrs</td>\n",
       "      <td>((HOAX??))  I was out in a field near mil&amp;#44 ...</td>\n",
       "      <td>2010-07-06</td>\n",
       "      <td>45.4167</td>\n",
       "      <td>-75.7000</td>\n",
       "      <td>2010-06-03 23:30:00</td>\n",
       "      <td>2010-06-03</td>\n",
       "      <td>23:30:00</td>\n",
       "      <td>Thursday</td>\n",
       "      <td>23000:00:00</td>\n",
       "      <td>Night</td>\n",
       "    </tr>\n",
       "    <tr>\n",
       "      <th>74660</th>\n",
       "      <td>greenbrier</td>\n",
       "      <td>ar</td>\n",
       "      <td>us</td>\n",
       "      <td>light</td>\n",
       "      <td>66276000.0</td>\n",
       "      <td>21 years</td>\n",
       "      <td>Orange or amber balls or orbs of light multipl...</td>\n",
       "      <td>2008-03-31</td>\n",
       "      <td>35.2339</td>\n",
       "      <td>-92.3875</td>\n",
       "      <td>1991-09-15 18:00:00</td>\n",
       "      <td>1991-09-15</td>\n",
       "      <td>18:00:00</td>\n",
       "      <td>Sunday</td>\n",
       "      <td>18410:00:00</td>\n",
       "      <td>Day</td>\n",
       "    </tr>\n",
       "    <tr>\n",
       "      <th>69215</th>\n",
       "      <td>englewood</td>\n",
       "      <td>fl</td>\n",
       "      <td>us</td>\n",
       "      <td>light</td>\n",
       "      <td>52623200.0</td>\n",
       "      <td>2 months</td>\n",
       "      <td>bright stars&amp;#44 moving erratically&amp;#44 over t...</td>\n",
       "      <td>2002-08-28</td>\n",
       "      <td>26.9617</td>\n",
       "      <td>-82.3528</td>\n",
       "      <td>2002-08-24 01:00:00</td>\n",
       "      <td>2002-08-24</td>\n",
       "      <td>01:00:00</td>\n",
       "      <td>Saturday</td>\n",
       "      <td>14617:33:20</td>\n",
       "      <td>Night</td>\n",
       "    </tr>\n",
       "    <tr>\n",
       "      <th>64390</th>\n",
       "      <td>finley</td>\n",
       "      <td>wa</td>\n",
       "      <td>us</td>\n",
       "      <td>light</td>\n",
       "      <td>52623200.0</td>\n",
       "      <td>2 months</td>\n",
       "      <td>There have been several flying objects in a pe...</td>\n",
       "      <td>2012-08-19</td>\n",
       "      <td>46.1542</td>\n",
       "      <td>-119.0328</td>\n",
       "      <td>2012-08-10 21:00:00</td>\n",
       "      <td>2012-08-10</td>\n",
       "      <td>21:00:00</td>\n",
       "      <td>Friday</td>\n",
       "      <td>14617:33:20</td>\n",
       "      <td>Night</td>\n",
       "    </tr>\n",
       "    <tr>\n",
       "      <th>52709</th>\n",
       "      <td>somerset (uk/england)</td>\n",
       "      <td>NaN</td>\n",
       "      <td>gb</td>\n",
       "      <td>cone</td>\n",
       "      <td>25248000.0</td>\n",
       "      <td>8 years</td>\n",
       "      <td>First time it was a bright light and missing t...</td>\n",
       "      <td>2009-08-05</td>\n",
       "      <td>51.0833</td>\n",
       "      <td>-3.0000</td>\n",
       "      <td>1969-06-30 22:45:00</td>\n",
       "      <td>1969-06-30</td>\n",
       "      <td>22:45:00</td>\n",
       "      <td>Monday</td>\n",
       "      <td>7013:20:00</td>\n",
       "      <td>Night</td>\n",
       "    </tr>\n",
       "    <tr>\n",
       "      <th>71172</th>\n",
       "      <td>virginia beach</td>\n",
       "      <td>va</td>\n",
       "      <td>us</td>\n",
       "      <td>fireball</td>\n",
       "      <td>10526400.0</td>\n",
       "      <td>4 months</td>\n",
       "      <td>this object was very high up and emmited no so...</td>\n",
       "      <td>2008-08-12</td>\n",
       "      <td>36.8528</td>\n",
       "      <td>-75.9783</td>\n",
       "      <td>2008-08-03 21:00:00</td>\n",
       "      <td>2008-08-03</td>\n",
       "      <td>21:00:00</td>\n",
       "      <td>Sunday</td>\n",
       "      <td>2924:00:00</td>\n",
       "      <td>Night</td>\n",
       "    </tr>\n",
       "    <tr>\n",
       "      <th>30596</th>\n",
       "      <td>menifee</td>\n",
       "      <td>ca</td>\n",
       "      <td>us</td>\n",
       "      <td>unknown</td>\n",
       "      <td>10526400.0</td>\n",
       "      <td>4 months</td>\n",
       "      <td>Sun City / Menifee UFO sightings in 1994</td>\n",
       "      <td>2005-02-22</td>\n",
       "      <td>33.7283</td>\n",
       "      <td>-117.1456</td>\n",
       "      <td>1994-03-01 01:00:00</td>\n",
       "      <td>1994-03-01</td>\n",
       "      <td>01:00:00</td>\n",
       "      <td>Tuesday</td>\n",
       "      <td>2924:00:00</td>\n",
       "      <td>Night</td>\n",
       "    </tr>\n",
       "    <tr>\n",
       "      <th>6991</th>\n",
       "      <td>oklahoma</td>\n",
       "      <td>ok</td>\n",
       "      <td>us</td>\n",
       "      <td>circle</td>\n",
       "      <td>10526400.0</td>\n",
       "      <td>4 months</td>\n",
       "      <td>Bright flying orb.</td>\n",
       "      <td>2013-10-14</td>\n",
       "      <td>35.4676</td>\n",
       "      <td>-97.5164</td>\n",
       "      <td>2013-10-07 20:00:00</td>\n",
       "      <td>2013-10-07</td>\n",
       "      <td>20:00:00</td>\n",
       "      <td>Monday</td>\n",
       "      <td>2924:00:00</td>\n",
       "      <td>Night</td>\n",
       "    </tr>\n",
       "    <tr>\n",
       "      <th>54009</th>\n",
       "      <td>mostar (bosnia/herzogovina)</td>\n",
       "      <td>NaN</td>\n",
       "      <td>NaN</td>\n",
       "      <td>sphere</td>\n",
       "      <td>9468000.0</td>\n",
       "      <td>3 years</td>\n",
       "      <td>Sky Watching of Another Kind</td>\n",
       "      <td>2013-07-03</td>\n",
       "      <td>43.3423</td>\n",
       "      <td>17.8128</td>\n",
       "      <td>2013-06-06 00:00:00</td>\n",
       "      <td>2013-06-06</td>\n",
       "      <td>00:00:00</td>\n",
       "      <td>Thursday</td>\n",
       "      <td>2630:00:00</td>\n",
       "      <td>Night</td>\n",
       "    </tr>\n",
       "  </tbody>\n",
       "</table>\n",
       "</div>"
      ],
      "text/plain": [
       "                              city state country     shape  \\\n",
       "559        birmingham (uk/england)   NaN      gb    sphere   \n",
       "53384              ottawa (canada)    on      ca     other   \n",
       "74660                   greenbrier    ar      us     light   \n",
       "69215                    englewood    fl      us     light   \n",
       "64390                       finley    wa      us     light   \n",
       "52709        somerset (uk/england)   NaN      gb      cone   \n",
       "71172               virginia beach    va      us  fireball   \n",
       "30596                      menifee    ca      us   unknown   \n",
       "6991                      oklahoma    ok      us    circle   \n",
       "54009  mostar (bosnia/herzogovina)   NaN     NaN    sphere   \n",
       "\n",
       "       duration (seconds) duration (hours/min)  \\\n",
       "559            97836000.0             31 years   \n",
       "53384          82800000.0             23000hrs   \n",
       "74660          66276000.0             21 years   \n",
       "69215          52623200.0             2 months   \n",
       "64390          52623200.0             2 months   \n",
       "52709          25248000.0              8 years   \n",
       "71172          10526400.0             4 months   \n",
       "30596          10526400.0             4 months   \n",
       "6991           10526400.0             4 months   \n",
       "54009           9468000.0              3 years   \n",
       "\n",
       "                                                comments date posted  \\\n",
       "559    Firstly&#44 I was stunned and stared at the ob...  2013-04-12   \n",
       "53384  ((HOAX??))  I was out in a field near mil&#44 ...  2010-07-06   \n",
       "74660  Orange or amber balls or orbs of light multipl...  2008-03-31   \n",
       "69215  bright stars&#44 moving erratically&#44 over t...  2002-08-28   \n",
       "64390  There have been several flying objects in a pe...  2012-08-19   \n",
       "52709  First time it was a bright light and missing t...  2009-08-05   \n",
       "71172  this object was very high up and emmited no so...  2008-08-12   \n",
       "30596           Sun City / Menifee UFO sightings in 1994  2005-02-22   \n",
       "6991                                  Bright flying orb.  2013-10-14   \n",
       "54009                       Sky Watching of Another Kind  2013-07-03   \n",
       "\n",
       "       latitude  longitude    datetime_updated        date      time  \\\n",
       "559     52.4667    -1.9167 1983-10-01 17:00:00  1983-10-01  17:00:00   \n",
       "53384   45.4167   -75.7000 2010-06-03 23:30:00  2010-06-03  23:30:00   \n",
       "74660   35.2339   -92.3875 1991-09-15 18:00:00  1991-09-15  18:00:00   \n",
       "69215   26.9617   -82.3528 2002-08-24 01:00:00  2002-08-24  01:00:00   \n",
       "64390   46.1542  -119.0328 2012-08-10 21:00:00  2012-08-10  21:00:00   \n",
       "52709   51.0833    -3.0000 1969-06-30 22:45:00  1969-06-30  22:45:00   \n",
       "71172   36.8528   -75.9783 2008-08-03 21:00:00  2008-08-03  21:00:00   \n",
       "30596   33.7283  -117.1456 1994-03-01 01:00:00  1994-03-01  01:00:00   \n",
       "6991    35.4676   -97.5164 2013-10-07 20:00:00  2013-10-07  20:00:00   \n",
       "54009   43.3423    17.8128 2013-06-06 00:00:00  2013-06-06  00:00:00   \n",
       "\n",
       "            day     duration day_night  \n",
       "559    Saturday  27176:40:00       Day  \n",
       "53384  Thursday  23000:00:00     Night  \n",
       "74660    Sunday  18410:00:00       Day  \n",
       "69215  Saturday  14617:33:20     Night  \n",
       "64390    Friday  14617:33:20     Night  \n",
       "52709    Monday   7013:20:00     Night  \n",
       "71172    Sunday   2924:00:00     Night  \n",
       "30596   Tuesday   2924:00:00     Night  \n",
       "6991     Monday   2924:00:00     Night  \n",
       "54009  Thursday   2630:00:00     Night  "
      ]
     },
     "execution_count": 31,
     "metadata": {},
     "output_type": "execute_result"
    }
   ],
   "source": [
    "df.sort_values('duration (seconds)', ascending=False)[:10]"
   ]
  },
  {
   "attachments": {},
   "cell_type": "markdown",
   "metadata": {},
   "source": [
    "Just for fun. Creating a word cloud from comments provided for each sighting."
   ]
  },
  {
   "cell_type": "code",
   "execution_count": 32,
   "metadata": {},
   "outputs": [],
   "source": [
    "import matplotlib.pyplot as plt\n",
    "from wordcloud import WordCloud "
   ]
  },
  {
   "cell_type": "code",
   "execution_count": 33,
   "metadata": {},
   "outputs": [
    {
     "data": {
      "image/png": "[encoded data removed]",
      "text/plain": [
       "<Figure size 640x480 with 1 Axes>"
      ]
     },
     "metadata": {},
     "output_type": "display_data"
    }
   ],
   "source": [
    "words = df['comments'].values\n",
    "wordcloud = WordCloud(background_color='white').generate(str(words))\n",
    "plt.imshow(wordcloud, interpolation='bilinear')\n",
    "plt.axis(\"off\")\n",
    "plt.show()"
   ]
  },
  {
   "attachments": {},
   "cell_type": "markdown",
   "metadata": {},
   "source": [
    "------"
   ]
  },
  {
   "attachments": {},
   "cell_type": "markdown",
   "metadata": {},
   "source": [
    "Lastly: Saving all updates to a new csv file"
   ]
  },
  {
   "cell_type": "code",
   "execution_count": 34,
   "metadata": {},
   "outputs": [],
   "source": [
    "df.to_csv('clean_ufo_data.csv', index=False)"
   ]
  }
 ],
 "metadata": {
  "kernelspec": {
   "display_name": "venv",
   "language": "python",
   "name": "python3"
  },
  "language_info": {
   "codemirror_mode": {
    "name": "ipython",
    "version": 3
   },
   "file_extension": ".py",
   "mimetype": "text/x-python",
   "name": "python",
   "nbconvert_exporter": "python",
   "pygments_lexer": "ipython3",
   "version": "3.10.8"
  },
  "orig_nbformat": 4,
  "vscode": {
   "interpreter": {
    "hash": "f8d2648be5b31a2e55bf21bcbdd09185181fc7d7004b4d7e517cfed3b70d5b6c"
   }
  }
 },
 "nbformat": 4,
 "nbformat_minor": 2
}
