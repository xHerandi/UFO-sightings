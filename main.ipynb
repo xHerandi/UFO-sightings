{
 "cells": [
  {
   "attachments": {},
   "cell_type": "markdown",
   "metadata": {},
   "source": [
    "<h1> UFO Sightings 🛸 </h1>\n",
    "<h3> Exploratory Data Analysis (EDA) </h3>\n",
    "\n",
    "Data obtained from [Kaggle](https://www.kaggle.com/datasets/ogunkoya/ufo-1149)"
   ]
  },
  {
   "attachments": {},
   "cell_type": "markdown",
   "metadata": {},
   "source": [
    "Some questions I would like to answer with this dataset: </b>\n",
    "1. What time periods are captured in this dataset? <br>\n",
    "2. Are there multiple reports from the same day? <br>\n",
    "3. Do most sightings occur during the day or at night? <br>\n",
    "4. What states have the most sightings? <br>\n",
    "5. How long do sightings last on average? <br>\n"
   ]
  },
  {
   "attachments": {},
   "cell_type": "markdown",
   "metadata": {},
   "source": [
    "First, import packages & libraries"
   ]
  },
  {
   "cell_type": "code",
   "execution_count": 1,
   "metadata": {},
   "outputs": [],
   "source": [
    "import pandas as pd\n",
    "import numpy as np\n",
    "from datetime import timedelta\n",
    "import warnings\n",
    "import seaborn as sns"
   ]
  },
  {
   "cell_type": "markdown",
   "metadata": {},
   "source": [
    "<h4>Step 1: Exploring Data Available</h4>"
   ]
  },
  {
   "cell_type": "code",
   "execution_count": 2,
   "metadata": {},
   "outputs": [],
   "source": [
    "# first, import the data into a pandas dataframe\n",
    "df = pd.read_csv('UFO-1149.csv')"
   ]
  },
  {
   "cell_type": "code",
   "execution_count": 3,
   "metadata": {},
   "outputs": [
    {
     "data": {
      "text/html": [
       "<div>\n",
       "<style scoped>\n",
       "    .dataframe tbody tr th:only-of-type {\n",
       "        vertical-align: middle;\n",
       "    }\n",
       "\n",
       "    .dataframe tbody tr th {\n",
       "        vertical-align: top;\n",
       "    }\n",
       "\n",
       "    .dataframe thead th {\n",
       "        text-align: right;\n",
       "    }\n",
       "</style>\n",
       "<table border=\"1\" class=\"dataframe\">\n",
       "  <thead>\n",
       "    <tr style=\"text-align: right;\">\n",
       "      <th></th>\n",
       "      <th>datetime</th>\n",
       "      <th>city</th>\n",
       "      <th>state</th>\n",
       "      <th>country</th>\n",
       "      <th>shape</th>\n",
       "      <th>duration (seconds)</th>\n",
       "      <th>duration (hours/min)</th>\n",
       "      <th>comments</th>\n",
       "      <th>date posted</th>\n",
       "      <th>latitude</th>\n",
       "      <th>longitude</th>\n",
       "    </tr>\n",
       "  </thead>\n",
       "  <tbody>\n",
       "    <tr>\n",
       "      <th>0</th>\n",
       "      <td>10/10/1949 20:30</td>\n",
       "      <td>san marcos</td>\n",
       "      <td>tx</td>\n",
       "      <td>us</td>\n",
       "      <td>cylinder</td>\n",
       "      <td>2700.0</td>\n",
       "      <td>45 minutes</td>\n",
       "      <td>This event took place in early fall around 194...</td>\n",
       "      <td>4/27/2004</td>\n",
       "      <td>29.8831</td>\n",
       "      <td>-97.9411</td>\n",
       "    </tr>\n",
       "    <tr>\n",
       "      <th>1</th>\n",
       "      <td>10/10/1949 21:00</td>\n",
       "      <td>lackland afb</td>\n",
       "      <td>tx</td>\n",
       "      <td>NaN</td>\n",
       "      <td>light</td>\n",
       "      <td>7200.0</td>\n",
       "      <td>1-2 hrs</td>\n",
       "      <td>1949 Lackland AFB&amp;#44 TX.  Lights racing acros...</td>\n",
       "      <td>12/16/2005</td>\n",
       "      <td>29.3842</td>\n",
       "      <td>-98.5811</td>\n",
       "    </tr>\n",
       "    <tr>\n",
       "      <th>2</th>\n",
       "      <td>10/10/1955 17:00</td>\n",
       "      <td>chester (uk/england)</td>\n",
       "      <td>NaN</td>\n",
       "      <td>gb</td>\n",
       "      <td>circle</td>\n",
       "      <td>20.0</td>\n",
       "      <td>20 seconds</td>\n",
       "      <td>Green/Orange circular disc over Chester&amp;#44 En...</td>\n",
       "      <td>1/21/2008</td>\n",
       "      <td>53.2000</td>\n",
       "      <td>-2.9167</td>\n",
       "    </tr>\n",
       "    <tr>\n",
       "      <th>3</th>\n",
       "      <td>10/10/1956 21:00</td>\n",
       "      <td>edna</td>\n",
       "      <td>tx</td>\n",
       "      <td>us</td>\n",
       "      <td>circle</td>\n",
       "      <td>20.0</td>\n",
       "      <td>1/2 hour</td>\n",
       "      <td>My older brother and twin sister were leaving ...</td>\n",
       "      <td>1/17/2004</td>\n",
       "      <td>28.9783</td>\n",
       "      <td>-96.6458</td>\n",
       "    </tr>\n",
       "    <tr>\n",
       "      <th>4</th>\n",
       "      <td>10/10/1960 20:00</td>\n",
       "      <td>kaneohe</td>\n",
       "      <td>hi</td>\n",
       "      <td>us</td>\n",
       "      <td>light</td>\n",
       "      <td>900.0</td>\n",
       "      <td>15 minutes</td>\n",
       "      <td>AS a Marine 1st Lt. flying an FJ4B fighter/att...</td>\n",
       "      <td>1/22/2004</td>\n",
       "      <td>21.4181</td>\n",
       "      <td>-157.8036</td>\n",
       "    </tr>\n",
       "    <tr>\n",
       "      <th>5</th>\n",
       "      <td>10/10/1961 19:00</td>\n",
       "      <td>bristol</td>\n",
       "      <td>tn</td>\n",
       "      <td>us</td>\n",
       "      <td>sphere</td>\n",
       "      <td>300.0</td>\n",
       "      <td>5 minutes</td>\n",
       "      <td>My father is now 89 my brother 52 the girl wit...</td>\n",
       "      <td>4/27/2007</td>\n",
       "      <td>36.5950</td>\n",
       "      <td>-82.1889</td>\n",
       "    </tr>\n",
       "    <tr>\n",
       "      <th>6</th>\n",
       "      <td>10/10/1965 21:00</td>\n",
       "      <td>penarth (uk/wales)</td>\n",
       "      <td>NaN</td>\n",
       "      <td>gb</td>\n",
       "      <td>circle</td>\n",
       "      <td>180.0</td>\n",
       "      <td>about 3 mins</td>\n",
       "      <td>penarth uk  circle  3mins  stayed 30ft above m...</td>\n",
       "      <td>2/14/2006</td>\n",
       "      <td>51.4347</td>\n",
       "      <td>-3.1800</td>\n",
       "    </tr>\n",
       "    <tr>\n",
       "      <th>7</th>\n",
       "      <td>10/10/1965 23:45</td>\n",
       "      <td>norwalk</td>\n",
       "      <td>ct</td>\n",
       "      <td>us</td>\n",
       "      <td>disk</td>\n",
       "      <td>1200.0</td>\n",
       "      <td>20 minutes</td>\n",
       "      <td>A bright orange color changing to reddish colo...</td>\n",
       "      <td>10/2/1999</td>\n",
       "      <td>41.1175</td>\n",
       "      <td>-73.4083</td>\n",
       "    </tr>\n",
       "    <tr>\n",
       "      <th>8</th>\n",
       "      <td>10/10/1966 20:00</td>\n",
       "      <td>pell city</td>\n",
       "      <td>al</td>\n",
       "      <td>us</td>\n",
       "      <td>disk</td>\n",
       "      <td>180.0</td>\n",
       "      <td>3  minutes</td>\n",
       "      <td>Strobe Lighted disk shape object observed clos...</td>\n",
       "      <td>3/19/2009</td>\n",
       "      <td>33.5861</td>\n",
       "      <td>-86.2861</td>\n",
       "    </tr>\n",
       "    <tr>\n",
       "      <th>9</th>\n",
       "      <td>10/10/1966 21:00</td>\n",
       "      <td>live oak</td>\n",
       "      <td>fl</td>\n",
       "      <td>us</td>\n",
       "      <td>disk</td>\n",
       "      <td>120.0</td>\n",
       "      <td>several minutes</td>\n",
       "      <td>Saucer zaps energy from powerline as my pregna...</td>\n",
       "      <td>5/11/2005</td>\n",
       "      <td>30.2947</td>\n",
       "      <td>-82.9842</td>\n",
       "    </tr>\n",
       "  </tbody>\n",
       "</table>\n",
       "</div>"
      ],
      "text/plain": [
       "           datetime                  city state country     shape  \\\n",
       "0  10/10/1949 20:30            san marcos    tx      us  cylinder   \n",
       "1  10/10/1949 21:00          lackland afb    tx     NaN     light   \n",
       "2  10/10/1955 17:00  chester (uk/england)   NaN      gb    circle   \n",
       "3  10/10/1956 21:00                  edna    tx      us    circle   \n",
       "4  10/10/1960 20:00               kaneohe    hi      us     light   \n",
       "5  10/10/1961 19:00               bristol    tn      us    sphere   \n",
       "6  10/10/1965 21:00    penarth (uk/wales)   NaN      gb    circle   \n",
       "7  10/10/1965 23:45               norwalk    ct      us      disk   \n",
       "8  10/10/1966 20:00             pell city    al      us      disk   \n",
       "9  10/10/1966 21:00              live oak    fl      us      disk   \n",
       "\n",
       "   duration (seconds) duration (hours/min)  \\\n",
       "0              2700.0           45 minutes   \n",
       "1              7200.0              1-2 hrs   \n",
       "2                20.0           20 seconds   \n",
       "3                20.0             1/2 hour   \n",
       "4               900.0           15 minutes   \n",
       "5               300.0            5 minutes   \n",
       "6               180.0         about 3 mins   \n",
       "7              1200.0           20 minutes   \n",
       "8               180.0           3  minutes   \n",
       "9               120.0      several minutes   \n",
       "\n",
       "                                            comments date posted  latitude  \\\n",
       "0  This event took place in early fall around 194...   4/27/2004   29.8831   \n",
       "1  1949 Lackland AFB&#44 TX.  Lights racing acros...  12/16/2005   29.3842   \n",
       "2  Green/Orange circular disc over Chester&#44 En...   1/21/2008   53.2000   \n",
       "3  My older brother and twin sister were leaving ...   1/17/2004   28.9783   \n",
       "4  AS a Marine 1st Lt. flying an FJ4B fighter/att...   1/22/2004   21.4181   \n",
       "5  My father is now 89 my brother 52 the girl wit...   4/27/2007   36.5950   \n",
       "6  penarth uk  circle  3mins  stayed 30ft above m...   2/14/2006   51.4347   \n",
       "7  A bright orange color changing to reddish colo...   10/2/1999   41.1175   \n",
       "8  Strobe Lighted disk shape object observed clos...   3/19/2009   33.5861   \n",
       "9  Saucer zaps energy from powerline as my pregna...   5/11/2005   30.2947   \n",
       "\n",
       "   longitude  \n",
       "0   -97.9411  \n",
       "1   -98.5811  \n",
       "2    -2.9167  \n",
       "3   -96.6458  \n",
       "4  -157.8036  \n",
       "5   -82.1889  \n",
       "6    -3.1800  \n",
       "7   -73.4083  \n",
       "8   -86.2861  \n",
       "9   -82.9842  "
      ]
     },
     "execution_count": 3,
     "metadata": {},
     "output_type": "execute_result"
    }
   ],
   "source": [
    "# first 10 records in the dataframe\n",
    "df.head(10)"
   ]
  },
  {
   "cell_type": "code",
   "execution_count": 4,
   "metadata": {},
   "outputs": [
    {
     "data": {
      "text/plain": [
       "(80332, 11)"
      ]
     },
     "execution_count": 4,
     "metadata": {},
     "output_type": "execute_result"
    }
   ],
   "source": [
    "# number of rows and columns\n",
    "df.shape"
   ]
  },
  {
   "cell_type": "code",
   "execution_count": 5,
   "metadata": {},
   "outputs": [
    {
     "name": "stdout",
     "output_type": "stream",
     "text": [
      "<class 'pandas.core.frame.DataFrame'>\n",
      "RangeIndex: 80332 entries, 0 to 80331\n",
      "Data columns (total 11 columns):\n",
      " #   Column                Non-Null Count  Dtype  \n",
      "---  ------                --------------  -----  \n",
      " 0   datetime              80332 non-null  object \n",
      " 1   city                  80332 non-null  object \n",
      " 2   state                 74535 non-null  object \n",
      " 3   country               70662 non-null  object \n",
      " 4   shape                 78400 non-null  object \n",
      " 5   duration (seconds)    80332 non-null  float64\n",
      " 6   duration (hours/min)  80332 non-null  object \n",
      " 7   comments              80318 non-null  object \n",
      " 8   date posted           80332 non-null  object \n",
      " 9   latitude              80332 non-null  float64\n",
      " 10  longitude             80332 non-null  float64\n",
      "dtypes: float64(3), object(8)\n",
      "memory usage: 6.7+ MB\n"
     ]
    }
   ],
   "source": [
    "# reviewing all columns, data types, and amount of records in each column\n",
    "df.info()"
   ]
  },
  {
   "cell_type": "code",
   "execution_count": 6,
   "metadata": {},
   "outputs": [
    {
     "data": {
      "text/plain": [
       "datetime                   0\n",
       "city                       0\n",
       "state                   5797\n",
       "country                 9670\n",
       "shape                   1932\n",
       "duration (seconds)         0\n",
       "duration (hours/min)       0\n",
       "comments                  14\n",
       "date posted                0\n",
       "latitude                   0\n",
       "longitude                  0\n",
       "dtype: int64"
      ]
     },
     "execution_count": 6,
     "metadata": {},
     "output_type": "execute_result"
    }
   ],
   "source": [
    "# missing values in each column\n",
    "df.isnull().sum()"
   ]
  },
  {
   "cell_type": "code",
   "execution_count": 7,
   "metadata": {},
   "outputs": [
    {
     "data": {
      "text/plain": [
       "datetime                69586\n",
       "city                    19900\n",
       "state                      67\n",
       "country                     5\n",
       "shape                      29\n",
       "duration (seconds)        533\n",
       "duration (hours/min)     8304\n",
       "comments                79998\n",
       "date posted               317\n",
       "latitude                17834\n",
       "longitude               19192\n",
       "dtype: int64"
      ]
     },
     "execution_count": 7,
     "metadata": {},
     "output_type": "execute_result"
    }
   ],
   "source": [
    "# unique records in each column\n",
    "df.nunique()"
   ]
  },
  {
   "attachments": {},
   "cell_type": "markdown",
   "metadata": {},
   "source": [
    "<b>Quick Observations: </b>\n",
    "- Slightly over 80,000 records with some missing data in `state`, `country`, `shape`, and `comments`<br>\n",
    "- Need to separate `dateteime` to individual *date* and *time* columns<br>\n",
    "- Time format for `duration (hours/min)` is too inconsistent<br>\n",
    "- There appear to 67 unique states, more than the standard 50 US states<br>\n",
    "<br>\n",
    "<br>\n",
    "<p>These will all be addressed in the next section"
   ]
  },
  {
   "cell_type": "markdown",
   "metadata": {},
   "source": [
    "<hr>"
   ]
  },
  {
   "cell_type": "markdown",
   "metadata": {},
   "source": [
    "<h4>Section 2: Data Cleaning and Transformation</h4>"
   ]
  },
  {
   "cell_type": "code",
   "execution_count": 8,
   "metadata": {},
   "outputs": [],
   "source": [
    "#replace 24:00 hours with 0:00 in order to use datetime features\n",
    "df['fix_time'] = df['datetime'].str.replace('24:00', '0:00')\n",
    "\n",
    "#recasting data type to datetime\n",
    "df['tempdatetime'] = pd.to_datetime(df['fix_time'])\n",
    "\n",
    "#items that contain 24:00 hour only\n",
    "rows = df['datetime'].str.contains('24:00')\n",
    "\n",
    "#applying update to fix the hour and save in a new column\n",
    "df['datetime_updated'] = df['tempdatetime'] + rows * timedelta(days=1)"
   ]
  },
  {
   "cell_type": "code",
   "execution_count": 9,
   "metadata": {},
   "outputs": [],
   "source": [
    "# splitting datetime column to new 'date' column\n",
    "df['date'] = pd.to_datetime(df['datetime_updated']).dt.date"
   ]
  },
  {
   "cell_type": "code",
   "execution_count": 10,
   "metadata": {},
   "outputs": [],
   "source": [
    "# creating a new column from the split above for 'time'\n",
    "df['time'] = pd.to_datetime(df['datetime_updated']).dt.time"
   ]
  },
  {
   "cell_type": "code",
   "execution_count": 11,
   "metadata": {},
   "outputs": [],
   "source": [
    "# recasting datatype\n",
    "df['date posted'] = pd.to_datetime(df['date posted']).dt.date"
   ]
  },
  {
   "cell_type": "code",
   "execution_count": 12,
   "metadata": {},
   "outputs": [],
   "source": [
    "# creating a new column that shows which day of the week the sighting occurred\n",
    "df['day'] = df['datetime_updated'].dt.day_name()"
   ]
  },
  {
   "cell_type": "code",
   "execution_count": 13,
   "metadata": {},
   "outputs": [
    {
     "data": {
      "text/plain": [
       "array(['tx', nan, 'hi', 'tn', 'ct', 'al', 'fl', 'ca', 'nc', 'ny', 'ky',\n",
       "       'mi', 'ma', 'ks', 'sc', 'wa', 'ab', 'co', 'nh', 'wi', 'me', 'ga',\n",
       "       'pa', 'il', 'ar', 'on', 'mo', 'oh', 'in', 'az', 'mn', 'nv', 'nf',\n",
       "       'ne', 'or', 'bc', 'ia', 'va', 'id', 'nm', 'nj', 'mb', 'wv', 'ok',\n",
       "       'ri', 'nb', 'vt', 'la', 'pr', 'ak', 'ms', 'ut', 'md', 'mt', 'sk',\n",
       "       'wy', 'sd', 'pq', 'ns', 'qc', 'de', 'nd', 'dc', 'nt', 'sa', 'yt',\n",
       "       'yk', 'pe'], dtype=object)"
      ]
     },
     "execution_count": 13,
     "metadata": {},
     "output_type": "execute_result"
    }
   ],
   "source": [
    "# looking at all the unique values under state\n",
    "df['state'].unique()"
   ]
  },
  {
   "cell_type": "code",
   "execution_count": 14,
   "metadata": {},
   "outputs": [],
   "source": [
    "# setting a list of us states\n",
    "states = [ 'ak', 'al', 'ar', 'az', 'ca', 'co', 'ct', 'dc', 'de', 'fl', 'ga',\n",
    "           'hi', 'ia', 'id', 'il', 'in', 'ks', 'ky', 'la', 'ma', 'md', 'me',\n",
    "           'mi', 'mn', 'mo', 'ms', 'mt', 'nc', 'nd', 'ne', 'nh', 'nj', 'nm',\n",
    "           'nv', 'ny', 'oh', 'ok', 'or', 'pa', 'ri', 'sc', 'sd', 'tn', 'tx',\n",
    "           'ut', 'va', 'vt', 'wa', 'wi', 'wv', 'wy']"
   ]
  },
  {
   "cell_type": "code",
   "execution_count": 15,
   "metadata": {},
   "outputs": [
    {
     "data": {
      "text/plain": [
       "ca    3000\n",
       "gb    1899\n",
       "au     533\n",
       "de     105\n",
       "us      25\n",
       "Name: country, dtype: int64"
      ]
     },
     "execution_count": 15,
     "metadata": {},
     "output_type": "execute_result"
    }
   ],
   "source": [
    "# created new dataframe for all non-US states based on the list provided above\n",
    "# confirming which countries are on this subset\n",
    "df2 = df[~df['state'].isin(states)]\n",
    "df2['country'].value_counts()"
   ]
  },
  {
   "cell_type": "code",
   "execution_count": 16,
   "metadata": {},
   "outputs": [],
   "source": [
    "# adding country as 'us' on items where the country is NULL and the state is listed in variable above\n",
    "c1 = df['country'].isna()\n",
    "c2 = df['state'].isin(states)\n",
    "\n",
    "df['country'] = df['country'].mask(c1 & c2, 'us')"
   ]
  },
  {
   "cell_type": "code",
   "execution_count": 17,
   "metadata": {},
   "outputs": [],
   "source": [
    "# redo 'duration (seconds)' to a new more meaningful column 'duration'\n",
    "def time(x):\n",
    "    min, sec = divmod(x, 60)\n",
    "    hour, min = divmod(min, 60)\n",
    "    new_time =  '%d:%02d:%02d' % (hour, min, sec)  #saves time in HH:MM:SS format\n",
    "    return new_time\n",
    "\n",
    "df['duration'] = df['duration (seconds)'].apply(time)"
   ]
  },
  {
   "cell_type": "code",
   "execution_count": 18,
   "metadata": {},
   "outputs": [],
   "source": [
    "# dropping columns that won't be needed\n",
    "df.drop(['datetime', 'duration (hours/min)', 'fix_time', 'tempdatetime'], axis = 1, inplace=True)"
   ]
  },
  {
   "cell_type": "code",
   "execution_count": 19,
   "metadata": {},
   "outputs": [],
   "source": [
    "# removing rows with missing data in the following columns\n",
    "df.dropna(how='any', axis = 0, subset=['country', 'shape', 'state'], inplace=True)"
   ]
  },
  {
   "cell_type": "code",
   "execution_count": 20,
   "metadata": {},
   "outputs": [
    {
     "data": {
      "text/plain": [
       "city                  0\n",
       "state                 0\n",
       "country               0\n",
       "shape                 0\n",
       "duration (seconds)    0\n",
       "comments              7\n",
       "date posted           0\n",
       "latitude              0\n",
       "longitude             0\n",
       "datetime_updated      0\n",
       "date                  0\n",
       "time                  0\n",
       "day                   0\n",
       "duration              0\n",
       "dtype: int64"
      ]
     },
     "execution_count": 20,
     "metadata": {},
     "output_type": "execute_result"
    }
   ],
   "source": [
    "# no more missing data\n",
    "df.isnull().sum()"
   ]
  },
  {
   "cell_type": "code",
   "execution_count": 21,
   "metadata": {},
   "outputs": [
    {
     "name": "stdout",
     "output_type": "stream",
     "text": [
      "<class 'pandas.core.frame.DataFrame'>\n",
      "Int64Index: 72152 entries, 0 to 80331\n",
      "Data columns (total 14 columns):\n",
      " #   Column              Non-Null Count  Dtype         \n",
      "---  ------              --------------  -----         \n",
      " 0   city                72152 non-null  object        \n",
      " 1   state               72152 non-null  object        \n",
      " 2   country             72152 non-null  object        \n",
      " 3   shape               72152 non-null  object        \n",
      " 4   duration (seconds)  72152 non-null  float64       \n",
      " 5   comments            72145 non-null  object        \n",
      " 6   date posted         72152 non-null  object        \n",
      " 7   latitude            72152 non-null  float64       \n",
      " 8   longitude           72152 non-null  float64       \n",
      " 9   datetime_updated    72152 non-null  datetime64[ns]\n",
      " 10  date                72152 non-null  object        \n",
      " 11  time                72152 non-null  object        \n",
      " 12  day                 72152 non-null  object        \n",
      " 13  duration            72152 non-null  object        \n",
      "dtypes: datetime64[ns](1), float64(3), object(10)\n",
      "memory usage: 8.3+ MB\n"
     ]
    }
   ],
   "source": [
    "df.info()"
   ]
  },
  {
   "cell_type": "code",
   "execution_count": 22,
   "metadata": {},
   "outputs": [
    {
     "data": {
      "text/html": [
       "<div>\n",
       "<style scoped>\n",
       "    .dataframe tbody tr th:only-of-type {\n",
       "        vertical-align: middle;\n",
       "    }\n",
       "\n",
       "    .dataframe tbody tr th {\n",
       "        vertical-align: top;\n",
       "    }\n",
       "\n",
       "    .dataframe thead th {\n",
       "        text-align: right;\n",
       "    }\n",
       "</style>\n",
       "<table border=\"1\" class=\"dataframe\">\n",
       "  <thead>\n",
       "    <tr style=\"text-align: right;\">\n",
       "      <th></th>\n",
       "      <th>city</th>\n",
       "      <th>state</th>\n",
       "      <th>country</th>\n",
       "      <th>shape</th>\n",
       "      <th>duration (seconds)</th>\n",
       "      <th>comments</th>\n",
       "      <th>date posted</th>\n",
       "      <th>latitude</th>\n",
       "      <th>longitude</th>\n",
       "      <th>datetime_updated</th>\n",
       "      <th>date</th>\n",
       "      <th>time</th>\n",
       "      <th>day</th>\n",
       "      <th>duration</th>\n",
       "    </tr>\n",
       "  </thead>\n",
       "  <tbody>\n",
       "    <tr>\n",
       "      <th>0</th>\n",
       "      <td>san marcos</td>\n",
       "      <td>tx</td>\n",
       "      <td>us</td>\n",
       "      <td>cylinder</td>\n",
       "      <td>2700.0</td>\n",
       "      <td>This event took place in early fall around 194...</td>\n",
       "      <td>2004-04-27</td>\n",
       "      <td>29.8831</td>\n",
       "      <td>-97.9411</td>\n",
       "      <td>1949-10-10 20:30:00</td>\n",
       "      <td>1949-10-10</td>\n",
       "      <td>20:30:00</td>\n",
       "      <td>Monday</td>\n",
       "      <td>0:45:00</td>\n",
       "    </tr>\n",
       "    <tr>\n",
       "      <th>1</th>\n",
       "      <td>lackland afb</td>\n",
       "      <td>tx</td>\n",
       "      <td>us</td>\n",
       "      <td>light</td>\n",
       "      <td>7200.0</td>\n",
       "      <td>1949 Lackland AFB&amp;#44 TX.  Lights racing acros...</td>\n",
       "      <td>2005-12-16</td>\n",
       "      <td>29.3842</td>\n",
       "      <td>-98.5811</td>\n",
       "      <td>1949-10-10 21:00:00</td>\n",
       "      <td>1949-10-10</td>\n",
       "      <td>21:00:00</td>\n",
       "      <td>Monday</td>\n",
       "      <td>2:00:00</td>\n",
       "    </tr>\n",
       "    <tr>\n",
       "      <th>3</th>\n",
       "      <td>edna</td>\n",
       "      <td>tx</td>\n",
       "      <td>us</td>\n",
       "      <td>circle</td>\n",
       "      <td>20.0</td>\n",
       "      <td>My older brother and twin sister were leaving ...</td>\n",
       "      <td>2004-01-17</td>\n",
       "      <td>28.9783</td>\n",
       "      <td>-96.6458</td>\n",
       "      <td>1956-10-10 21:00:00</td>\n",
       "      <td>1956-10-10</td>\n",
       "      <td>21:00:00</td>\n",
       "      <td>Wednesday</td>\n",
       "      <td>0:00:20</td>\n",
       "    </tr>\n",
       "    <tr>\n",
       "      <th>4</th>\n",
       "      <td>kaneohe</td>\n",
       "      <td>hi</td>\n",
       "      <td>us</td>\n",
       "      <td>light</td>\n",
       "      <td>900.0</td>\n",
       "      <td>AS a Marine 1st Lt. flying an FJ4B fighter/att...</td>\n",
       "      <td>2004-01-22</td>\n",
       "      <td>21.4181</td>\n",
       "      <td>-157.8036</td>\n",
       "      <td>1960-10-10 20:00:00</td>\n",
       "      <td>1960-10-10</td>\n",
       "      <td>20:00:00</td>\n",
       "      <td>Monday</td>\n",
       "      <td>0:15:00</td>\n",
       "    </tr>\n",
       "    <tr>\n",
       "      <th>5</th>\n",
       "      <td>bristol</td>\n",
       "      <td>tn</td>\n",
       "      <td>us</td>\n",
       "      <td>sphere</td>\n",
       "      <td>300.0</td>\n",
       "      <td>My father is now 89 my brother 52 the girl wit...</td>\n",
       "      <td>2007-04-27</td>\n",
       "      <td>36.5950</td>\n",
       "      <td>-82.1889</td>\n",
       "      <td>1961-10-10 19:00:00</td>\n",
       "      <td>1961-10-10</td>\n",
       "      <td>19:00:00</td>\n",
       "      <td>Tuesday</td>\n",
       "      <td>0:05:00</td>\n",
       "    </tr>\n",
       "  </tbody>\n",
       "</table>\n",
       "</div>"
      ],
      "text/plain": [
       "           city state country     shape  duration (seconds)  \\\n",
       "0    san marcos    tx      us  cylinder              2700.0   \n",
       "1  lackland afb    tx      us     light              7200.0   \n",
       "3          edna    tx      us    circle                20.0   \n",
       "4       kaneohe    hi      us     light               900.0   \n",
       "5       bristol    tn      us    sphere               300.0   \n",
       "\n",
       "                                            comments date posted  latitude  \\\n",
       "0  This event took place in early fall around 194...  2004-04-27   29.8831   \n",
       "1  1949 Lackland AFB&#44 TX.  Lights racing acros...  2005-12-16   29.3842   \n",
       "3  My older brother and twin sister were leaving ...  2004-01-17   28.9783   \n",
       "4  AS a Marine 1st Lt. flying an FJ4B fighter/att...  2004-01-22   21.4181   \n",
       "5  My father is now 89 my brother 52 the girl wit...  2007-04-27   36.5950   \n",
       "\n",
       "   longitude    datetime_updated        date      time        day duration  \n",
       "0   -97.9411 1949-10-10 20:30:00  1949-10-10  20:30:00     Monday  0:45:00  \n",
       "1   -98.5811 1949-10-10 21:00:00  1949-10-10  21:00:00     Monday  2:00:00  \n",
       "3   -96.6458 1956-10-10 21:00:00  1956-10-10  21:00:00  Wednesday  0:00:20  \n",
       "4  -157.8036 1960-10-10 20:00:00  1960-10-10  20:00:00     Monday  0:15:00  \n",
       "5   -82.1889 1961-10-10 19:00:00  1961-10-10  19:00:00    Tuesday  0:05:00  "
      ]
     },
     "execution_count": 22,
     "metadata": {},
     "output_type": "execute_result"
    }
   ],
   "source": [
    "# confirming all updates\n",
    "df.head()"
   ]
  },
  {
   "attachments": {},
   "cell_type": "markdown",
   "metadata": {},
   "source": [
    "<hr>"
   ]
  },
  {
   "cell_type": "markdown",
   "metadata": {},
   "source": [
    "<h4>Section 3: Analysis & Visualization</h4>"
   ]
  },
  {
   "attachments": {},
   "cell_type": "markdown",
   "metadata": {},
   "source": [
    "<p><b>1. What time periods are captured in this dataset?</b></p>"
   ]
  },
  {
   "cell_type": "code",
   "execution_count": 23,
   "metadata": {},
   "outputs": [
    {
     "data": {
      "text/plain": [
       "min    1910-01-02\n",
       "max    2014-05-08\n",
       "Name: date, dtype: object"
      ]
     },
     "execution_count": 23,
     "metadata": {},
     "output_type": "execute_result"
    }
   ],
   "source": [
    "df['date'].agg(['min', 'max'])"
   ]
  },
  {
   "cell_type": "code",
   "execution_count": 24,
   "metadata": {},
   "outputs": [
    {
     "data": {
      "text/plain": [
       "min    1998-03-07\n",
       "max    2014-05-08\n",
       "Name: date posted, dtype: object"
      ]
     },
     "execution_count": 24,
     "metadata": {},
     "output_type": "execute_result"
    }
   ],
   "source": [
    "df['date posted'].agg(['min', 'max'])"
   ]
  },
  {
   "attachments": {},
   "cell_type": "markdown",
   "metadata": {},
   "source": [
    "<p>This dataset has sightings from early 1910 through 2014. The date of occurrence doesn’t always align with the data posted. The earliest posted record was from 1998. </br>\n",
    "<br>\n",
    "<p><b>2. Are there multiple reports from the same day?</b>\n"
   ]
  },
  {
   "cell_type": "code",
   "execution_count": 25,
   "metadata": {},
   "outputs": [
    {
     "name": "stdout",
     "output_type": "stream",
     "text": [
      "Number of unique date variations:  10084\n"
     ]
    }
   ],
   "source": [
    "print(\"Number of unique date variations: \",df['date'].nunique())"
   ]
  },
  {
   "cell_type": "code",
   "execution_count": 26,
   "metadata": {},
   "outputs": [
    {
     "data": {
      "text/plain": [
       "2010-07-04    199\n",
       "2012-07-04    182\n",
       "1999-11-16    171\n",
       "2013-07-04    170\n",
       "2011-07-04    142\n",
       "Name: date, dtype: int64"
      ]
     },
     "execution_count": 26,
     "metadata": {},
     "output_type": "execute_result"
    }
   ],
   "source": [
    "#looking at first 5 dates with the most sightings\n",
    "df['date'].value_counts()[:5]"
   ]
  },
  {
   "attachments": {},
   "cell_type": "markdown",
   "metadata": {},
   "source": [
    "<p>July 4th seems to be a hot day for UFO sightings. Wonder if that has to do with fireworks in the US for Independence Day. Something to look more into, possibly see which countries these sights are from."
   ]
  },
  {
   "attachments": {},
   "cell_type": "markdown",
   "metadata": {},
   "source": [
    "<p><b>3. Do most sightings occur during the day or at night?</b>\n",
    "\n",
    "To answer this question, time needs to be separated into a day/night column. Items labeled *Day* will be sightings between 06:00 - 18:00, *Night* 18:00 - 06:00."
   ]
  },
  {
   "cell_type": "code",
   "execution_count": 27,
   "metadata": {},
   "outputs": [],
   "source": [
    "# first find items in hour 6 - 18 & label as Day, else label as Night\n",
    "warnings.filterwarnings(\"ignore\")\n",
    "\n",
    "df['day_night'] = df['datetime_updated'].dt.hour.between(6, 18, inclusive=True)\n",
    "df['day_night'] = df['day_night'].replace({True: \"Day\", False: \"Night\"})"
   ]
  },
  {
   "cell_type": "code",
   "execution_count": 28,
   "metadata": {},
   "outputs": [
    {
     "data": {
      "text/plain": [
       "Night    54252\n",
       "Day      17900\n",
       "Name: day_night, dtype: int64"
      ]
     },
     "execution_count": 28,
     "metadata": {},
     "output_type": "execute_result"
    }
   ],
   "source": [
    "df['day_night'].value_counts()"
   ]
  },
  {
   "cell_type": "code",
   "execution_count": 29,
   "metadata": {},
   "outputs": [
    {
     "data": {
      "image/png": "[encoded data removed]",
      "text/plain": [
       "<Figure size 640x480 with 1 Axes>"
      ]
     },
     "metadata": {},
     "output_type": "display_data"
    }
   ],
   "source": [
    "sns.countplot(data=df, x='day_night', order=df.day_night.value_counts().index, color='#a66fb5').set_title('When are sightings more likely to occur?');"
   ]
  },
  {
   "attachments": {},
   "cell_type": "markdown",
   "metadata": {},
   "source": [
    "<p><b>4. What states have the most sightings?"
   ]
  },
  {
   "cell_type": "code",
   "execution_count": 30,
   "metadata": {},
   "outputs": [],
   "source": [
    "# looking at data in the US only\n",
    "usa_df = df[df['state'].isin(states)]"
   ]
  },
  {
   "cell_type": "code",
   "execution_count": 31,
   "metadata": {},
   "outputs": [
    {
     "data": {
      "image/png": "[encoded data removed]",
      "text/plain": [
       "<Figure size 640x480 with 1 Axes>"
      ]
     },
     "metadata": {},
     "output_type": "display_data"
    }
   ],
   "source": [
    "sns.countplot(data=usa_df, y='state', order=usa_df.state.value_counts()[:25].index).set_title('UFO Sightings in Top 25 States');"
   ]
  },
  {
   "attachments": {},
   "cell_type": "markdown",
   "metadata": {},
   "source": [
    "<p><b>5. How long do sightings last on average?"
   ]
  },
  {
   "cell_type": "code",
   "execution_count": 32,
   "metadata": {},
   "outputs": [
    {
     "data": {
      "text/plain": [
       "min    0:00:00\n",
       "max    9:00:00\n",
       "Name: duration, dtype: object"
      ]
     },
     "execution_count": 32,
     "metadata": {},
     "output_type": "execute_result"
    }
   ],
   "source": [
    "df['duration'].agg(['min', 'max'])"
   ]
  },
  {
   "attachments": {},
   "cell_type": "markdown",
   "metadata": {},
   "source": [
    "A few sightings reported to be as long as 9 hours!"
   ]
  },
  {
   "cell_type": "code",
   "execution_count": 33,
   "metadata": {},
   "outputs": [
    {
     "data": {
      "text/html": [
       "<div>\n",
       "<style scoped>\n",
       "    .dataframe tbody tr th:only-of-type {\n",
       "        vertical-align: middle;\n",
       "    }\n",
       "\n",
       "    .dataframe tbody tr th {\n",
       "        vertical-align: top;\n",
       "    }\n",
       "\n",
       "    .dataframe thead th {\n",
       "        text-align: right;\n",
       "    }\n",
       "</style>\n",
       "<table border=\"1\" class=\"dataframe\">\n",
       "  <thead>\n",
       "    <tr style=\"text-align: right;\">\n",
       "      <th></th>\n",
       "      <th>city</th>\n",
       "      <th>state</th>\n",
       "      <th>country</th>\n",
       "      <th>shape</th>\n",
       "      <th>duration (seconds)</th>\n",
       "      <th>comments</th>\n",
       "      <th>date posted</th>\n",
       "      <th>latitude</th>\n",
       "      <th>longitude</th>\n",
       "      <th>datetime_updated</th>\n",
       "      <th>date</th>\n",
       "      <th>time</th>\n",
       "      <th>day</th>\n",
       "      <th>duration</th>\n",
       "      <th>day_night</th>\n",
       "    </tr>\n",
       "  </thead>\n",
       "  <tbody>\n",
       "    <tr>\n",
       "      <th>45350</th>\n",
       "      <td>lewiston</td>\n",
       "      <td>mi</td>\n",
       "      <td>us</td>\n",
       "      <td>other</td>\n",
       "      <td>32400.0</td>\n",
       "      <td>what we saw was real&amp;#44 and the goverment kno...</td>\n",
       "      <td>2007-06-12</td>\n",
       "      <td>44.8839</td>\n",
       "      <td>-84.3056</td>\n",
       "      <td>2007-05-03 22:30:00</td>\n",
       "      <td>2007-05-03</td>\n",
       "      <td>22:30:00</td>\n",
       "      <td>Thursday</td>\n",
       "      <td>9:00:00</td>\n",
       "      <td>Night</td>\n",
       "    </tr>\n",
       "    <tr>\n",
       "      <th>47021</th>\n",
       "      <td>mississippi (rural; hitchhiking)</td>\n",
       "      <td>ms</td>\n",
       "      <td>us</td>\n",
       "      <td>circle</td>\n",
       "      <td>32400.0</td>\n",
       "      <td>Myself and a friend are missing time after see...</td>\n",
       "      <td>2008-08-12</td>\n",
       "      <td>32.3547</td>\n",
       "      <td>-89.3985</td>\n",
       "      <td>1968-06-01 22:00:00</td>\n",
       "      <td>1968-06-01</td>\n",
       "      <td>22:00:00</td>\n",
       "      <td>Saturday</td>\n",
       "      <td>9:00:00</td>\n",
       "      <td>Night</td>\n",
       "    </tr>\n",
       "    <tr>\n",
       "      <th>25393</th>\n",
       "      <td>snohomish</td>\n",
       "      <td>wa</td>\n",
       "      <td>us</td>\n",
       "      <td>light</td>\n",
       "      <td>32400.0</td>\n",
       "      <td>Over hours of continuous blinking light in the...</td>\n",
       "      <td>2003-02-11</td>\n",
       "      <td>47.9131</td>\n",
       "      <td>-122.0969</td>\n",
       "      <td>2003-01-09 21:00:00</td>\n",
       "      <td>2003-01-09</td>\n",
       "      <td>21:00:00</td>\n",
       "      <td>Thursday</td>\n",
       "      <td>9:00:00</td>\n",
       "      <td>Night</td>\n",
       "    </tr>\n",
       "    <tr>\n",
       "      <th>46708</th>\n",
       "      <td>lusby</td>\n",
       "      <td>md</td>\n",
       "      <td>us</td>\n",
       "      <td>other</td>\n",
       "      <td>32400.0</td>\n",
       "      <td>Possible alien encounter and or abduction in 1...</td>\n",
       "      <td>2012-08-05</td>\n",
       "      <td>38.4106</td>\n",
       "      <td>-76.4556</td>\n",
       "      <td>1993-06-11 01:00:00</td>\n",
       "      <td>1993-06-11</td>\n",
       "      <td>01:00:00</td>\n",
       "      <td>Friday</td>\n",
       "      <td>9:00:00</td>\n",
       "      <td>Night</td>\n",
       "    </tr>\n",
       "    <tr>\n",
       "      <th>32217</th>\n",
       "      <td>cherry valley</td>\n",
       "      <td>ny</td>\n",
       "      <td>us</td>\n",
       "      <td>sphere</td>\n",
       "      <td>32400.0</td>\n",
       "      <td>Red pulsing light over Cherry Valley&amp;#44 NY.</td>\n",
       "      <td>2008-03-31</td>\n",
       "      <td>42.7956</td>\n",
       "      <td>-74.7536</td>\n",
       "      <td>2008-03-18 21:00:00</td>\n",
       "      <td>2008-03-18</td>\n",
       "      <td>21:00:00</td>\n",
       "      <td>Tuesday</td>\n",
       "      <td>9:00:00</td>\n",
       "      <td>Night</td>\n",
       "    </tr>\n",
       "    <tr>\n",
       "      <th>...</th>\n",
       "      <td>...</td>\n",
       "      <td>...</td>\n",
       "      <td>...</td>\n",
       "      <td>...</td>\n",
       "      <td>...</td>\n",
       "      <td>...</td>\n",
       "      <td>...</td>\n",
       "      <td>...</td>\n",
       "      <td>...</td>\n",
       "      <td>...</td>\n",
       "      <td>...</td>\n",
       "      <td>...</td>\n",
       "      <td>...</td>\n",
       "      <td>...</td>\n",
       "      <td>...</td>\n",
       "    </tr>\n",
       "    <tr>\n",
       "      <th>25884</th>\n",
       "      <td>n./a</td>\n",
       "      <td>tx</td>\n",
       "      <td>us</td>\n",
       "      <td>other</td>\n",
       "      <td>0.5</td>\n",
       "      <td>&amp;quot;Roswell Rod&amp;quot; checks out the Columbi...</td>\n",
       "      <td>2003-04-22</td>\n",
       "      <td>31.9686</td>\n",
       "      <td>-99.9018</td>\n",
       "      <td>2003-02-01 11:00:00</td>\n",
       "      <td>2003-02-01</td>\n",
       "      <td>11:00:00</td>\n",
       "      <td>Saturday</td>\n",
       "      <td>0:00:00</td>\n",
       "      <td>Day</td>\n",
       "    </tr>\n",
       "    <tr>\n",
       "      <th>9703</th>\n",
       "      <td>drumright</td>\n",
       "      <td>ok</td>\n",
       "      <td>us</td>\n",
       "      <td>fireball</td>\n",
       "      <td>0.5</td>\n",
       "      <td>white fireball w/blue tail going streight down...</td>\n",
       "      <td>2002-11-20</td>\n",
       "      <td>35.9883</td>\n",
       "      <td>-96.6008</td>\n",
       "      <td>1998-11-16 05:11:00</td>\n",
       "      <td>1998-11-16</td>\n",
       "      <td>05:11:00</td>\n",
       "      <td>Monday</td>\n",
       "      <td>0:00:00</td>\n",
       "      <td>Night</td>\n",
       "    </tr>\n",
       "    <tr>\n",
       "      <th>22752</th>\n",
       "      <td>westerly</td>\n",
       "      <td>ri</td>\n",
       "      <td>us</td>\n",
       "      <td>fireball</td>\n",
       "      <td>0.5</td>\n",
       "      <td>Intense yellowish white fireball with greenish...</td>\n",
       "      <td>2012-12-20</td>\n",
       "      <td>41.3775</td>\n",
       "      <td>-71.8278</td>\n",
       "      <td>2012-12-05 17:00:00</td>\n",
       "      <td>2012-12-05</td>\n",
       "      <td>17:00:00</td>\n",
       "      <td>Wednesday</td>\n",
       "      <td>0:00:00</td>\n",
       "      <td>Day</td>\n",
       "    </tr>\n",
       "    <tr>\n",
       "      <th>59877</th>\n",
       "      <td>columbus</td>\n",
       "      <td>oh</td>\n",
       "      <td>us</td>\n",
       "      <td>circle</td>\n",
       "      <td>0.5</td>\n",
       "      <td>Blue Circle/Flame shooting across sky</td>\n",
       "      <td>2002-08-16</td>\n",
       "      <td>39.9611</td>\n",
       "      <td>-82.9989</td>\n",
       "      <td>2002-07-26 01:07:00</td>\n",
       "      <td>2002-07-26</td>\n",
       "      <td>01:07:00</td>\n",
       "      <td>Friday</td>\n",
       "      <td>0:00:00</td>\n",
       "      <td>Night</td>\n",
       "    </tr>\n",
       "    <tr>\n",
       "      <th>52597</th>\n",
       "      <td>florence (??))</td>\n",
       "      <td>co</td>\n",
       "      <td>us</td>\n",
       "      <td>light</td>\n",
       "      <td>0.5</td>\n",
       "      <td>The move classic Rio Grand &amp;#44 in the sean be...</td>\n",
       "      <td>2008-01-21</td>\n",
       "      <td>38.3903</td>\n",
       "      <td>-105.1181</td>\n",
       "      <td>1950-06-30 17:30:00</td>\n",
       "      <td>1950-06-30</td>\n",
       "      <td>17:30:00</td>\n",
       "      <td>Friday</td>\n",
       "      <td>0:00:00</td>\n",
       "      <td>Day</td>\n",
       "    </tr>\n",
       "  </tbody>\n",
       "</table>\n",
       "<p>72152 rows × 15 columns</p>\n",
       "</div>"
      ],
      "text/plain": [
       "                                   city state country     shape  \\\n",
       "45350                          lewiston    mi      us     other   \n",
       "47021  mississippi (rural; hitchhiking)    ms      us    circle   \n",
       "25393                         snohomish    wa      us     light   \n",
       "46708                             lusby    md      us     other   \n",
       "32217                     cherry valley    ny      us    sphere   \n",
       "...                                 ...   ...     ...       ...   \n",
       "25884                              n./a    tx      us     other   \n",
       "9703                          drumright    ok      us  fireball   \n",
       "22752                          westerly    ri      us  fireball   \n",
       "59877                          columbus    oh      us    circle   \n",
       "52597                    florence (??))    co      us     light   \n",
       "\n",
       "       duration (seconds)                                           comments  \\\n",
       "45350             32400.0  what we saw was real&#44 and the goverment kno...   \n",
       "47021             32400.0  Myself and a friend are missing time after see...   \n",
       "25393             32400.0  Over hours of continuous blinking light in the...   \n",
       "46708             32400.0  Possible alien encounter and or abduction in 1...   \n",
       "32217             32400.0       Red pulsing light over Cherry Valley&#44 NY.   \n",
       "...                   ...                                                ...   \n",
       "25884                 0.5  &quot;Roswell Rod&quot; checks out the Columbi...   \n",
       "9703                  0.5  white fireball w/blue tail going streight down...   \n",
       "22752                 0.5  Intense yellowish white fireball with greenish...   \n",
       "59877                 0.5              Blue Circle/Flame shooting across sky   \n",
       "52597                 0.5  The move classic Rio Grand &#44 in the sean be...   \n",
       "\n",
       "      date posted  latitude  longitude    datetime_updated        date  \\\n",
       "45350  2007-06-12   44.8839   -84.3056 2007-05-03 22:30:00  2007-05-03   \n",
       "47021  2008-08-12   32.3547   -89.3985 1968-06-01 22:00:00  1968-06-01   \n",
       "25393  2003-02-11   47.9131  -122.0969 2003-01-09 21:00:00  2003-01-09   \n",
       "46708  2012-08-05   38.4106   -76.4556 1993-06-11 01:00:00  1993-06-11   \n",
       "32217  2008-03-31   42.7956   -74.7536 2008-03-18 21:00:00  2008-03-18   \n",
       "...           ...       ...        ...                 ...         ...   \n",
       "25884  2003-04-22   31.9686   -99.9018 2003-02-01 11:00:00  2003-02-01   \n",
       "9703   2002-11-20   35.9883   -96.6008 1998-11-16 05:11:00  1998-11-16   \n",
       "22752  2012-12-20   41.3775   -71.8278 2012-12-05 17:00:00  2012-12-05   \n",
       "59877  2002-08-16   39.9611   -82.9989 2002-07-26 01:07:00  2002-07-26   \n",
       "52597  2008-01-21   38.3903  -105.1181 1950-06-30 17:30:00  1950-06-30   \n",
       "\n",
       "           time        day duration day_night  \n",
       "45350  22:30:00   Thursday  9:00:00     Night  \n",
       "47021  22:00:00   Saturday  9:00:00     Night  \n",
       "25393  21:00:00   Thursday  9:00:00     Night  \n",
       "46708  01:00:00     Friday  9:00:00     Night  \n",
       "32217  21:00:00    Tuesday  9:00:00     Night  \n",
       "...         ...        ...      ...       ...  \n",
       "25884  11:00:00   Saturday  0:00:00       Day  \n",
       "9703   05:11:00     Monday  0:00:00     Night  \n",
       "22752  17:00:00  Wednesday  0:00:00       Day  \n",
       "59877  01:07:00     Friday  0:00:00     Night  \n",
       "52597  17:30:00     Friday  0:00:00       Day  \n",
       "\n",
       "[72152 rows x 15 columns]"
      ]
     },
     "execution_count": 33,
     "metadata": {},
     "output_type": "execute_result"
    }
   ],
   "source": [
    "df.sort_values('duration', ascending=False)"
   ]
  },
  {
   "attachments": {},
   "cell_type": "markdown",
   "metadata": {},
   "source": [
    "Reusing the time() function from section 2 to convert the mean that was calculated from `duration (seconds)`"
   ]
  },
  {
   "cell_type": "code",
   "execution_count": 34,
   "metadata": {},
   "outputs": [
    {
     "name": "stdout",
     "output_type": "stream",
     "text": [
      "6446.053422649406\n",
      "The average UFO sighting durations is:  1:47:26\n"
     ]
    }
   ],
   "source": [
    "time_mean = df['duration (seconds)'].mean()\n",
    "print(time_mean)\n",
    "print(\"The average UFO sighting durations is: \",time(time_mean))"
   ]
  },
  {
   "attachments": {},
   "cell_type": "markdown",
   "metadata": {},
   "source": [
    "------"
   ]
  },
  {
   "attachments": {},
   "cell_type": "markdown",
   "metadata": {},
   "source": [
    "Lastly: Saving all updates to a new csv file"
   ]
  },
  {
   "cell_type": "code",
   "execution_count": 39,
   "metadata": {},
   "outputs": [],
   "source": [
    "df.to_csv('clean_ufo_data.csv', index=False)"
   ]
  },
  {
   "attachments": {},
   "cell_type": "markdown",
   "metadata": {},
   "source": [
    "----\n",
    "Bonus: Just for fun. Creating a word cloud of the comments provided for each sighting."
   ]
  },
  {
   "cell_type": "code",
   "execution_count": 36,
   "metadata": {},
   "outputs": [],
   "source": [
    "import matplotlib.pyplot as plt\n",
    "from wordcloud import WordCloud "
   ]
  },
  {
   "cell_type": "code",
   "execution_count": 37,
   "metadata": {},
   "outputs": [
    {
     "data": {
      "image/png": "[encoded data removed]",
      "text/plain": [
       "<Figure size 640x480 with 1 Axes>"
      ]
     },
     "metadata": {},
     "output_type": "display_data"
    }
   ],
   "source": [
    "words = df['comments'].values\n",
    "wordcloud = WordCloud(background_color='white').generate(str(words))\n",
    "plt.imshow(wordcloud, interpolation='bilinear')\n",
    "plt.axis(\"off\")\n",
    "plt.show()"
   ]
  }
 ],
 "metadata": {
  "kernelspec": {
   "display_name": "venv",
   "language": "python",
   "name": "python3"
  },
  "language_info": {
   "codemirror_mode": {
    "name": "ipython",
    "version": 3
   },
   "file_extension": ".py",
   "mimetype": "text/x-python",
   "name": "python",
   "nbconvert_exporter": "python",
   "pygments_lexer": "ipython3",
   "version": "3.10.8"
  },
  "orig_nbformat": 4,
  "vscode": {
   "interpreter": {
    "hash": "f8d2648be5b31a2e55bf21bcbdd09185181fc7d7004b4d7e517cfed3b70d5b6c"
   }
  }
 },
 "nbformat": 4,
 "nbformat_minor": 2
}
